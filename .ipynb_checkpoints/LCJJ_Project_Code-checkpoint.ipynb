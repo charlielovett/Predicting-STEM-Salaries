{
 "cells": [
  {
   "cell_type": "raw",
   "id": "33dd6c4c",
   "metadata": {},
   "source": [
    "---\n",
    "title: \"Project Code\"\n",
    "subtitle: LCJJ\n",
    "author: Charlie Lovett, Jacob Muriel, Lainey Neild, and Jack Troxel\n",
    "date: 05/23/2023\n",
    "number-sections: true\n",
    "abstract: _This file contains the code for the project on predicting STEM salaries, as part of the STAT303-3 course in Spring 2023_.\n",
    "format: \n",
    "  html:\n",
    "    toc: true\n",
    "    toc-title: Contents\n",
    "    self-contained: true\n",
    "    font-size: 100%\n",
    "    toc-depth: 4\n",
    "    mainfont: serif\n",
    "jupyter: python3\n",
    "---"
   ]
  },
  {
   "cell_type": "code",
   "execution_count": 1,
   "id": "26193e55",
   "metadata": {},
   "outputs": [],
   "source": [
    "import pandas as pd\n",
    "import numpy as np\n",
    "import seaborn as sns\n",
    "import matplotlib.pyplot as plt\n",
    "from sklearn.metrics import mean_squared_error\n",
    "from sklearn.model_selection import cross_val_score,train_test_split, KFold, cross_val_predict\n",
    "from sklearn.metrics import mean_squared_error,r2_score,roc_curve,auc,precision_recall_curve, accuracy_score, \\\n",
    "recall_score, precision_score, confusion_matrix, mean_absolute_error\n",
    "from sklearn.tree import DecisionTreeRegressor,DecisionTreeClassifier\n",
    "from sklearn.model_selection import GridSearchCV, ParameterGrid, StratifiedKFold\n",
    "from sklearn.model_selection import train_test_split\n",
    "from sklearn.ensemble import GradientBoostingRegressor,GradientBoostingClassifier, BaggingRegressor,BaggingClassifier,RandomForestRegressor,RandomForestClassifier,AdaBoostRegressor,AdaBoostClassifier\n",
    "from sklearn.linear_model import LinearRegression,LogisticRegression\n",
    "from sklearn.neighbors import KNeighborsRegressor\n",
    "import itertools as it\n",
    "import time as time"
   ]
  },
  {
   "cell_type": "markdown",
   "id": "fe7ea9bb",
   "metadata": {},
   "source": [
    "## Data quality check / cleaning / preparation \n",
    "\n",
    "Put code with comments. The comments should explain the code such that it can be easily understood. You may put text *(in a markdown cell)* before a large chunk of code to explain the overall purpose of the code, if it is not intuitive. **Put the name of the person / persons who contributed to each code chunk / set of code chunks.** An example is given below."
   ]
  },
  {
   "cell_type": "markdown",
   "id": "54864075",
   "metadata": {},
   "source": [
    "### Data cleaning\n",
    "*By Sankaranarayanan Balasubramanian & Fiona Fe*"
   ]
  },
  {
   "cell_type": "code",
   "execution_count": null,
   "id": "70969e71",
   "metadata": {},
   "outputs": [],
   "source": [
    "# Read in original data from Kaggle\n",
    "data = pd.read_csv('Data/salary_data.csv')\n",
    "\n",
    "# Drop bad predictors and general misc cleaning\n",
    "data_cleaned = data.drop(columns = [\"location\", \"timestamp\", \"basesalary\", \"stockgrantvalue\", \"otherdetails\", \"rowNumber\", \"bonus\", \"cityid\"])\n",
    "data_cleaned = data_cleaned.loc[data_cleaned.gender.notnull() & data_cleaned.Race.notnull() & data_cleaned.Education.notnull()]\n",
    "data_cleaned = data_cleaned.drop(columns = [\"Race\", \"Education\"]) # alreadyy listed as dummy vars\n",
    "data_cleaned.company = data_cleaned.company.str.lower()\n",
    "data_cleaned.company = data_cleaned.company.str.replace(\" \", \"\")\n",
    "data_cleaned.company = data_cleaned.company.str.replace(\"-\", \"\")\n",
    "data_cleaned.company = data_cleaned.company.str.replace(\",\", \"\")\n",
    "data_cleaned.company = data_cleaned.company.str.replace(\".\", \"\")\n",
    "data_cleaned['dmaid'] = data_cleaned['dmaid'].astype(str)\n",
    "\n",
    "# Rank most frequent categorical predictors\n",
    "top_cmp_lst = data_cleaned.company.value_counts().index.to_list()[:10]\n",
    "top_tag_lst = data_cleaned.tag.value_counts().index.to_list()[:10]\n",
    "top_title_lst = data_cleaned.title.value_counts().index.to_list()[:10]\n",
    "top_level_lst = data_cleaned.level.value_counts().index.to_list()[:10]\n",
    "top_dmaid_lst = data_cleaned.dmaid.value_counts().index.to_list()[:46]\n",
    "\n",
    "# Set up for creation of dummy variables only for most common categorical observations\n",
    "data_cleaned.company = data_cleaned.company.apply(lambda x: x if x in top_cmp_lst else \"other\")\n",
    "data_cleaned.tag = data_cleaned.tag.apply(lambda x: x if x in top_tag_lst else \"other\")\n",
    "data_cleaned.title = data_cleaned.title.apply(lambda x: x if x in top_title_lst else \"other\")\n",
    "data_cleaned.level = data_cleaned.level.apply(lambda x: x if x in top_level_lst else \"other\")\n",
    "data_cleaned.dmaid = data_cleaned.dmaid.apply(lambda x: x if x in top_dmaid_lst else \"other\")\n",
    "\n",
    "# Read Data\n",
    "data_cleaned = pd.get_dummies(data_cleaned)\n",
    "X = data_cleaned.drop(columns = ['totalyearlycompensation'])\n",
    "y = data_cleaned.totalyearlycompensation\n",
    "\n",
    "# Split data into train and test\n",
    "X_train, X_test, y_train, y_test = train_test_split(X, y, test_size = 0.4, random_state = 1)"
   ]
  },
  {
   "cell_type": "code",
   "execution_count": 2,
   "id": "d1a9a7b7",
   "metadata": {},
   "outputs": [],
   "source": [
    "# Read in final cleaned data set as created above\n",
    "X = pd.read_csv('Data/X_train.csv').drop(columns = \"Unnamed: 0\")\n",
    "X_test = pd.read_csv('Data/X_test.csv').drop(columns = \"Unnamed: 0\")\n",
    "y = pd.read_csv('Data/y_train.csv').drop(columns = \"Unnamed: 0\")\n",
    "y_test = pd.read_csv('Data/y_test.csv').drop(columns = \"Unnamed: 0\")"
   ]
  },
  {
   "cell_type": "markdown",
   "id": "371a5a4a",
   "metadata": {},
   "source": [
    "### Distribution of response\n",
    "*By Sylvia Sherwood*"
   ]
  },
  {
   "cell_type": "code",
   "execution_count": null,
   "id": "b868f6b5",
   "metadata": {},
   "outputs": [],
   "source": [
    "#...Plot for distribution of response...#\n",
    "\n",
    "# Mean and standard deviation of response #"
   ]
  },
  {
   "cell_type": "markdown",
   "id": "424479b5",
   "metadata": {},
   "source": [
    "### Data preparation\n",
    "*By Ryu Kimiko*\n",
    "\n",
    "The following data preparation steps helped us to prepare our data for implementing various modeling / validation techniques:\n",
    "\n",
    "1. Since we need to predict house price, we derived some new predictors *(from existing predictors)* that intuitively seem to be helpuful to predict house price. \n",
    "\n",
    "2. We have created a standardized version of the dataset, as we will use it to develop Lasso / Ridge regression models."
   ]
  },
  {
   "cell_type": "code",
   "execution_count": 3,
   "id": "bde6859d",
   "metadata": {},
   "outputs": [],
   "source": [
    "######---------------Creating new predictors----------------#########\n",
    "\n",
    "#Creating number of bedrooms per unit floor area\n",
    "\n",
    "#Creating ratio of bathrooms to bedrooms\n",
    "\n",
    "#Creating ratio of carpet area to floor area"
   ]
  },
  {
   "cell_type": "code",
   "execution_count": null,
   "id": "edf0986d",
   "metadata": {},
   "outputs": [],
   "source": [
    "######-----Standardizing the dataset for Lasso / Ridge-------#########"
   ]
  },
  {
   "cell_type": "markdown",
   "id": "fbb11c9b",
   "metadata": {},
   "source": [
    "## Exploratory data analysis"
   ]
  },
  {
   "cell_type": "markdown",
   "id": "e4bd74a9",
   "metadata": {},
   "source": [
    "Put code with comments. The comments should explain the code such that it can be easily understood. You may put text *(in a markdown cell)* before a large chunk of code to explain the overall purpose of the code, if it is not intuitive. **Put the name of the person / persons who contributed to each code chunk / set of code chunks.**"
   ]
  },
  {
   "cell_type": "markdown",
   "id": "acab331a",
   "metadata": {},
   "source": [
    "## Developing the model: Hyperparameter tuning"
   ]
  },
  {
   "cell_type": "markdown",
   "id": "ae5ec4c9",
   "metadata": {},
   "source": [
    "Put code with comments. The comments should explain the code such that it can be easily understood. You may put text *(in a markdown cell)* before a large chunk of code to explain the overall purpose of the code, if it is not intuitive. **Put the name of the person / persons who contributed to each code chunk / set of code chunks.**\n",
    "\n",
    "Put each model in a section of its name and mention the name of the team-member tuning the model. Below is an example:"
   ]
  },
  {
   "cell_type": "markdown",
   "id": "21bc9dcc",
   "metadata": {},
   "source": [
    "### Lasso, Ridge & Catboost\n",
    "*By Sylvia Sherwood*"
   ]
  },
  {
   "cell_type": "markdown",
   "id": "a67c9ff7",
   "metadata": {},
   "source": [
    "### MARS, AdaBoost & LightGBM\n",
    "*By Sankaranarayanan Balasubramanian*"
   ]
  },
  {
   "cell_type": "markdown",
   "id": "017ca069",
   "metadata": {},
   "source": [
    "### Bagged trees & Random forest\n",
    "*By Fiona Fe*"
   ]
  },
  {
   "cell_type": "markdown",
   "id": "8182968b",
   "metadata": {},
   "source": [
    "### XGBoost\n",
    "*By Ryu Kimiko*"
   ]
  },
  {
   "cell_type": "markdown",
   "id": "a221dcc6",
   "metadata": {},
   "source": [
    "## Model Ensemble "
   ]
  },
  {
   "cell_type": "markdown",
   "id": "9dc8b3d9",
   "metadata": {},
   "source": [
    "Put code with comments. The comments should explain the code such that it can be easily understood. You may put text *(in a markdown cell)* before a large chunk of code to explain the overall purpose of the code, if it is not intuitive. **Put the name of the person / persons who contributed to each code chunk / set of code chunks.**\n"
   ]
  },
  {
   "cell_type": "markdown",
   "id": "961bcb1d",
   "metadata": {},
   "source": [
    "### Voting ensemble"
   ]
  },
  {
   "cell_type": "markdown",
   "id": "ca651ba0",
   "metadata": {},
   "source": [
    "### Stacking ensemble(s)"
   ]
  },
  {
   "cell_type": "markdown",
   "id": "ddff3adf",
   "metadata": {},
   "source": [
    "### Ensemble of ensembled models"
   ]
  },
  {
   "cell_type": "markdown",
   "id": "3668faab",
   "metadata": {},
   "source": [
    "### Innovative ensembling methods\n",
    "*(Optional)*"
   ]
  },
  {
   "cell_type": "markdown",
   "id": "62a185cb",
   "metadata": {},
   "source": [
    "## Conclusions and Recommendations to stakeholder(s)\n",
    "\n",
    "You may or may not have code to put in this section. Delete this section if it is irrelevant."
   ]
  }
 ],
 "metadata": {
  "kernelspec": {
   "display_name": "Python 3 (ipykernel)",
   "language": "python",
   "name": "python3"
  },
  "language_info": {
   "codemirror_mode": {
    "name": "ipython",
    "version": 3
   },
   "file_extension": ".py",
   "mimetype": "text/x-python",
   "name": "python",
   "nbconvert_exporter": "python",
   "pygments_lexer": "ipython3",
   "version": "3.9.13"
  }
 },
 "nbformat": 4,
 "nbformat_minor": 5
}
