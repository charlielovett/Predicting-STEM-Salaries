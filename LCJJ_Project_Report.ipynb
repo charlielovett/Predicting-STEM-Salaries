{
 "cells": [
  {
   "cell_type": "raw",
   "id": "33dd6c4c",
   "metadata": {},
   "source": [
    "---\n",
    "title: \"Project Report\"\n",
    "subtitle: LCJJ\n",
    "author: Charlie Lovett, Jacob Muriel, Lainey Neild, and Jack Troxel\n",
    "date: 05/23/2023\n",
    "number-sections: true\n",
    "abstract: _This project focuses on the development of a model to predict salaries in STEM fields. In this project, the optimization metric used was Mean Absolute Error. An MAE on testing data of ~47,000 was achieved using the following models and ensembling techniques: Ridge, Lasso, Random Forest, AdaBoost, Gradient Boosting, and XGBoost. Based on this model, stakeholders including students and employers can more accurately predict salaries to correctly value work and avoid overcompensating employees_.\n",
    "format: \n",
    "  html:\n",
    "    toc: true\n",
    "    toc-title: Contents\n",
    "    self-contained: true\n",
    "    font-size: 100%\n",
    "    toc-depth: 4\n",
    "    mainfont: serif\n",
    "jupyter: python3\n",
    "---"
   ]
  },
  {
   "cell_type": "markdown",
   "id": "0116f49b",
   "metadata": {},
   "source": [
    "## Background / Motivation\n",
    "\n",
    "All four of us are current college students that will soon be entering the professional world. Many of us are planning to pursue careers in various STEM fields such as software development or data science. With this in mind, we wanted to create a model that can help to predict the salaries of the people that work in these fields. Through this project, we wanted to develop a model that we could one day use to predict what our salaries should be. "
   ]
  },
  {
   "cell_type": "markdown",
   "id": "84ff1421",
   "metadata": {},
   "source": [
    "## Problem statement \n",
    "\n",
    "Through this project, we will attempt to predict the salaries for employees that work in STEM fields. As we are predicting salaries, the response observed in this project is a continuous variable—their annunal salary in USD. We will assess our model accuracy using MAE. We have selected this metric instead of RMSE as there is no inherit risk or disadvantage in incorrectly predicting observations by a large margin."
   ]
  },
  {
   "cell_type": "markdown",
   "id": "38c7b95f",
   "metadata": {},
   "source": [
    "## Data sources\n",
    "\n",
    "We will be using a data source comprised of salary data for employees in STEM fields. This dataset was found on Kaggle and contains data scraped from a salary collecting website (levels.fyi). The data can be found [here](https://www.kaggle.com/datasets/jackogozaly/data-science-and-stem-salaries). \n",
    "\n",
    "The response in this problem is `totalyearlycompensation`. Some of the predictors include `company`, `title`, `yearsofexperience`, `yearsatcompany`, `location`, `Education`, `Race`, and `Gender`.\n",
    "\n",
    "There are ~21,000 observations in our dataset. There are 10 total predictors comprised of 2 continuous and 8 categorical predictors."
   ]
  },
  {
   "cell_type": "markdown",
   "id": "8c255035",
   "metadata": {},
   "source": [
    "## Stakeholders\n",
    "\n",
    "The dataset our group has chosen to analyze investigates the compensation for various STEM roles at companies. Many groups of people could benefit from this analysis. Firstly, students pursuing a career in STEM would definitely be interested in this data. Although compensation does not drive most student's professional path, it certainly is a factor that holds weight. Secondly, colleges and universities would benefit from our group's analysis. By understanding which roles are in the highest demand in our society, they may place more emphasis on prioritizing resources and professors in those academic areas. Thirdly, employees would be interested in our findings to ensure that their compensation is fair relative to industry standards, giving them the opportunity to negotiate for higher pay. Fourthly, in the same way our analysis could benefit employees, employers would benefit as they could see how their compensation packages compare to their competitor's compensation packages allowing them to understand better how they are attracting talent in these fields and how to make the open positions more attractive to prospective employees. "
   ]
  },
  {
   "cell_type": "markdown",
   "id": "fe7ea9bb",
   "metadata": {},
   "source": [
    "## Data quality check / cleaning / preparation \n",
    "\n",
    "Show the distribution of the response here. Report the standard deviation and mean in case of a regression problem, and proportion of 0s and 1s in case of classification.\n",
    "\n",
    "For all other content, as mentioned below, just provide the highlights *(if any)* and put the details in the appendix.\n",
    "\n",
    "In a tabular form, show the distribution of values of each variable used in the analysis - for both categorical and continuous variables. Distribution of a categorical variable must include the number of missing values, the number of unique values, the frequency of all its levels. If a categorical variable has too many levels, you may just include the counts of the top 3-5 levels. \n",
    "\n",
    "Mention any useful insights you obtained from the data quality check that helped you develop the model or helped you realize the necessary data cleaning / preparation. Its ok if there were none.\n",
    "\n",
    "Were there any potentially incorrect values of variables that required cleaning? If yes, how did you clean them? Were there missing values? How did you handle them? Its ok if the data was already clean.\n",
    "\n",
    "Did you do any data wrangling or data preparation before the data was ready to use for model development? Did you create any new predictors from exisiting predictors? For example, if you have number of transactions and spend in a credit card dataset, you may create spend per transaction for predicting if a customer pays their credit card bill. Mention the steps at a broad level, you may put minor details in the appendix. Only mention the steps that ended up being useful towards developing your model(s)."
   ]
  },
  {
   "cell_type": "markdown",
   "id": "fbb11c9b",
   "metadata": {},
   "source": [
    "## Exploratory data analysis"
   ]
  },
  {
   "cell_type": "markdown",
   "id": "e4bd74a9",
   "metadata": {},
   "source": [
    "If there is any EDA that helped with model development, put it here. If EDA didn't help then mention that, and you may show your EDA effort *(if any)* in the appendix.\n",
    "\n",
    "List the insights (as bullet points), if any, you got from EDA  that ended up being useful towards developing your final model. \n",
    "\n",
    "If there are too many plots / tables, you may put them into appendix, and just mention the insights you got from them."
   ]
  },
  {
   "cell_type": "markdown",
   "id": "d1f12d5d",
   "metadata": {},
   "source": [
    "Note that you can write code to publish the results of the code, but hide the code using the yaml setting `#|echo: false`. For example, the code below makes a plot, but the code itself is not published with Quarto in the report."
   ]
  },
  {
   "cell_type": "code",
   "execution_count": 4,
   "id": "14a59729",
   "metadata": {},
   "outputs": [
    {
     "data": {
      "image/png": "[encoded data removed]",
      "text/plain": [
       "<Figure size 432x288 with 1 Axes>"
      ]
     },
     "metadata": {
      "needs_background": "light"
     },
     "output_type": "display_data"
    }
   ],
   "source": [
    "#| echo: false\n",
    "import matplotlib.pyplot as plt\n",
    "plt.plot(range(10));"
   ]
  },
  {
   "cell_type": "markdown",
   "id": "d39c782c",
   "metadata": {},
   "source": [
    "## Approach\n",
    "\n",
    "What kind of a models did you use? What performance metric(s) did you optimize and why?\n",
    "\n",
    "Is there anything unorthodox / new in your approach? \n",
    "\n",
    "What problems did you anticipate? What problems did you encounter? \n",
    "\n",
    "Did your problem already have solution(s) (posted on Kaggle or elsewhere). If yes, then how did you build upon those solutions, what did you do differently? Is your model better as compared to those solutions in terms of prediction accuracy or your chosen metric?\n",
    "\n",
    "**Important: Mention any code repositories (with citations) or other sources that you used, and specifically what changes you made to them for your project.**"
   ]
  },
  {
   "cell_type": "markdown",
   "id": "acab331a",
   "metadata": {},
   "source": [
    "## Developing the model: Hyperparameter tuning"
   ]
  },
  {
   "cell_type": "markdown",
   "id": "ae5ec4c9",
   "metadata": {},
   "source": [
    "Every person must describe their hyperparameter tuning procedure. Show the grid of hyperparameter values over which the initial search was done *(you may paste your grid search / random search / any other search code)*, and the optimal hyperparameter values obtained. After getting the initial search results, how did you make decisions *(if any)* to further fine-tune your model. Did you do another grid / random search or did you tune hyperparameters sequentially? If you think you didn't need any fine tuning after the initial results, then mention that and explain why.\n",
    "\n",
    "Put each model in a section of its name and mention the name of the team-member tuning the model. Below is an example:"
   ]
  },
  {
   "cell_type": "markdown",
   "id": "ea422beb",
   "metadata": {},
   "source": [
    "### Lasso & Ridge\n",
    "*By Charlie Lovett*"
   ]
  },
  {
   "cell_type": "markdown",
   "id": "b78fbd0e",
   "metadata": {},
   "source": [
    "### Random Forest\n",
    "*By Lainey Neild*"
   ]
  },
  {
   "cell_type": "markdown",
   "id": "2916849c",
   "metadata": {},
   "source": [
    "### AdaBoost\n",
    "*By Jacob Muriel*"
   ]
  },
  {
   "cell_type": "markdown",
   "id": "37f552ef",
   "metadata": {},
   "source": [
    "### Gradient Boosting & XGBoost\n",
    "*By Jack Troxel*"
   ]
  },
  {
   "cell_type": "markdown",
   "id": "04d2996f",
   "metadata": {},
   "source": [
    "I used extremely similar processes to tune both Gradient Boosting and XGBoost. For both, I started with an extremely coarse gridsearch using RandomizedSearchCV based on the results of an exploration into each hyperparameter value versus the corresponding cross validation MAE. After that, I conducted I finer search using GridSearchCV. I continued to narrow in on finer and finer parameters until I found that the optimal parameters from these searches were actually increasing MAE on test data (due to overfitting). The searches that I conducted and the results that I achieved are seen below. As seen, I did not include n_estimators in any of my searches. Instead, I tuned n_estimators individually after deciding upon the other optimal hyperparameters.\n",
    "\n",
    "Initial Gradient Boosting Search (RandomizedSearchCV):\n",
    "- grid['learning_rate'] = [0.0001, 0.001, 0.01,0.1, 1.0]\n",
    "- grid['max_depth'] = [5,6,7,8,9,10,11,12]\n",
    "- grid['subsample'] = [0.25, 0.5, 0.75, 1]\n",
    "\n",
    "Gradient Boosting Optimal Hyperparameters (after multiple rounds of finer tuning): \n",
    "- learning_rate = 0.1\n",
    "- subsample = 0.75\n",
    "- max_depth = 6\n",
    "- n_estimators = 450\n",
    "\n",
    "*Gradient Boosting MAE on Test Data: 47,579*\n",
    "\n",
    "Initial XGBoost Search (RandomizedSearchCV):\n",
    "- grid['max_depth'] = [3,4,5,6,7,8],\n",
    "- grid['learning_rate'] = [0.1,0.2,0.3],\n",
    "- grid['reg_lambda'] = [2, 10],\n",
    "- grid['gamma'] = [0, 10],\n",
    "- grid['subsample'] = [0.25,0.5,0.75,1]\n",
    "\n",
    "XGBoost Optimal Hyperparameters (after multiple rounds of finer tuning):\n",
    "- max_depth = 6\n",
    "- learning_rate = 0.08\n",
    "- reg_lambda = 10\n",
    "- gamma = 0\n",
    "- subsample = 0.75\n",
    "- n_estimators = 450\n",
    "\n",
    "*XGBoost MAE on Test Data: 47,440*"
   ]
  },
  {
   "cell_type": "markdown",
   "id": "f2dedee2",
   "metadata": {},
   "source": [
    "## Model Ensemble "
   ]
  },
  {
   "cell_type": "markdown",
   "id": "fa68b0a5",
   "metadata": {},
   "source": [
    "Put the results of enembling individual models. Feel free to add subsections in this section to add more innovative ensembling methods."
   ]
  },
  {
   "cell_type": "markdown",
   "id": "66c5924a",
   "metadata": {},
   "source": [
    "### Voting ensemble"
   ]
  },
  {
   "cell_type": "markdown",
   "id": "78a31cb2",
   "metadata": {},
   "source": [
    "The simplest voting ensemble will be the model where all models have equal weights.\n",
    "\n",
    "You may come up with innovative methods of estimating weights of the individual models, such as based on their cross-val error. Sometimes, these methods may work better than stacking ensembles, as stacking ensembles tend to overfit."
   ]
  },
  {
   "cell_type": "markdown",
   "id": "bcff4cda",
   "metadata": {},
   "source": [
    "### Stacking ensemble\n",
    "Try out different models as the metamodel. You may split work as follows. The person who worked on certain types of models *(say AdaBoost and MARS)* also uses those models as a metamodel in the stacking ensemble."
   ]
  },
  {
   "cell_type": "markdown",
   "id": "2b22a5f3",
   "metadata": {},
   "source": [
    "### Ensemble of ensembled models\n",
    "\n",
    "If you are creating multiple stacking ensembles *(based on different metamodels)*, you may ensemble them."
   ]
  },
  {
   "cell_type": "markdown",
   "id": "36fe5f5f",
   "metadata": {},
   "source": [
    "### Innovative ensembling methods\n",
    "*(Optional)*\n",
    "\n",
    "Some models may do better on certain subsets of the predictor space. You may find that out, and given a data point, choose the model(s) that will best predict for that data point. This is similar to the idea of developing a decision tree metamodel. However, decision tree is prone to overfitting.\n",
    "\n",
    "Another idea may be to correct the individual models with the intercept and slope *(note the tree-based models don't have an intercept and may suffer from a constant bias)*, and then ensemble them. This is equivalent to having a simple linear regression meta-model for each of the individual models, and then ensembling the meta-models with a meta-metamodel or a voting ensemble."
   ]
  },
  {
   "cell_type": "markdown",
   "id": "1b46343d",
   "metadata": {},
   "source": [
    "## Limitations of the model with regard to prediction"
   ]
  },
  {
   "cell_type": "markdown",
   "id": "c85ead90",
   "metadata": {},
   "source": [
    "Are you confident that you found the optimal hyperparameter values for each of your individual models, and that your individual models cannot be better tuned? Or, are there any models that could be better tuned if you had more time / resources, but you are limited by the amount of time you can spend on the course project *(equivalent to one assignment)*? If yes, then which models could be better tuned and how?\n",
    "\n",
    "Will it be possible / convenient / expensive for the stakeholders to collect the data relating to the predictors in the model. Using your model, how soon will the stakeholder be able to predict the outcome before the outcome occurs. For example, if the model predicts the number of bikes people will rent in Evanston on a certain day, then how many days before that day will your model be able to make the prediction. This will depend on how soon the data that your model uses becomes available. If you are predicting election results, how many days / weeks / months / years before the election can you predict the results. \n",
    "\n",
    "When will your model become too obsolete to be useful?"
   ]
  },
  {
   "cell_type": "markdown",
   "id": "d02ffcf3",
   "metadata": {},
   "source": [
    "We are fairly confident in our chosen hyperparameters. While we did have a large dataset with a large amount of dummy variables, we still were able to perform effective grid searches to gauge the hyperparameter space with regards to our model's accuracy. That said, we obviously did not check every single combination of hyperparameters so it is definitely possible that there are better selections, and given some more time and computational power we likely could have achieved marginally better results. Additionally, it should not be too difficult for the stakeholders to collect relevant data relating to the predictors in the model. Individual students and employees should be aware of their own identities and the characteristics of their jobs (or prospective jobs) which is all they would need to use the model, and employers should have all the same information on their own employees to be used in the same way. It might be a bit more difficult for universities to track where their students typically work after studying or where their current students are likely to go, though they probably do have some of the relevant information on hand. The model may become obsolete by the year, in which case it could simply be updated by being trained on a new dataset with updated salaries and other relevant information. Once it's updated, stakeholders should be able to use it right away to decide how to proceed with their future, though they may need to be aware that "
   ]
  },
  {
   "cell_type": "markdown",
   "id": "62a185cb",
   "metadata": {},
   "source": [
    "## Conclusions and Recommendations to stakeholder(s)"
   ]
  },
  {
   "cell_type": "markdown",
   "id": "0077a796",
   "metadata": {},
   "source": [
    "Based on the results of our model, we are beyond satisfied in our ability to predict salaries for employees in STEM fields. Our model's MAE is significantly lower than that of the intercept only model and is also significanly lower than the initial standard deviation of the response variable, and both of those indicate that our model is performing significanly better than merely predicting the mean. Additionally, our stakeholders should be able to use our model to help in the following ways. Students pursuing a career in STEM can look at their own identities and weigh those with other potential aspects (company, what title they would have, etc.) to help them decide where they might want to work. Universities are likely aware of where their students typically go after studying, and they can use this information in tendem with our model to help them decide how to allocate their resources in a way that would set their students up for the most success (financially, at least). Employees can also look at their own identities and other aspects of their job to gauge whether they are being fairly compensated, and can use this information to decide whether they want to fight for a higher compensation of even try to go to another company. Lastly, employers can use the model in a similar way to see whether they are paying their employees too much, and can use it as a reasonable basis for denying some people higher compensations. That said, the stakeholders should probably be aware of a limitation that has to do with our model. Because of the large variety of results within the categorical predictors, we had to group and convert some variable names to \"other\" so reduce the computational complexity of our model, and thus not all companies, locations, and titles are distinctly addressed in this model. Additionally, our model should likely be updated every year (with a new dataset containing data from salaries and demographics from the most recent year) to account for overarching shifts in the industry's salaries."
   ]
  },
  {
   "cell_type": "markdown",
   "id": "0ca45613",
   "metadata": {},
   "source": [
    "Add details of each team member's contribution, other than the models contributed, in the table below."
   ]
  },
  {
   "cell_type": "markdown",
   "id": "5505da5c",
   "metadata": {},
   "source": [
    "<html>\n",
    "<style>\n",
    "table, td, th {\n",
    "  border: 1px solid black;\n",
    "}\n",
    "\n",
    "table {\n",
    "  border-collapse: collapse;\n",
    "  width: 100%;\n",
    "}\n",
    "\n",
    "th {\n",
    "  text-align: left;\n",
    "}\n",
    "    \n",
    "\n",
    "</style>\n",
    "<body>\n",
    "\n",
    "<h2>Individual contribution</h2>\n",
    "\n",
    "<table style=\"width:100%\">\n",
    "     <colgroup>\n",
    "       <col span=\"1\" style=\"width: 15%;\">\n",
    "       <col span=\"1\" style=\"width: 20%;\">\n",
    "       <col span=\"1\" style=\"width: 25%;\">\n",
    "       <col span=\"1\" style=\"width: 40%;\">\n",
    "    </colgroup>\n",
    "  <tr>\n",
    "    <th>Team member</th>\n",
    "    <th>Individual Model</th>\n",
    "    <th>Work other than individual model</th>    \n",
    "    <th>Details of work other than individual model</th>\n",
    "  </tr>\n",
    "  <tr>\n",
    "    <td>Charlie Lovett</td>\n",
    "    <td>Lasso & Ridge</td>\n",
    "    <td>Data cleaning and Model Ensembling</td>    \n",
    "    <td>Helped to limit count of categorical observations. Led the development of ensembeled models.</td>\n",
    "  </tr>\n",
    "  <tr>\n",
    "    <td>Jacob Muriel</td>\n",
    "    <td>AdaBoost</td>\n",
    "    <td>Ensembling</td>    \n",
    "    <td>Led original data cleaning and assisted Charlie with ensembling.</td>\n",
    "  </tr>\n",
    "    <tr>\n",
    "    <td>Lainey Neild</td>\n",
    "    <td>Random forest</td>\n",
    "    <td>EDA and Data Preparation</td>    \n",
    "    <td>Conducted initial EDA and assisted in data preparation process.</td>\n",
    "  </tr>\n",
    "    <tr>\n",
    "    <td>Jack Troxel</td>\n",
    "    <td>XGBoost & Gradient Boosting</td>\n",
    "    <td>EDA and Presentation</td>    \n",
    "    <td>Helped with initial EDA and created presentation for final project.</td> \n",
    "  </tr>\n",
    "</table>"
   ]
  },
  {
   "cell_type": "markdown",
   "id": "00b1cafe",
   "metadata": {},
   "source": [
    "## References {-}"
   ]
  },
  {
   "cell_type": "markdown",
   "id": "ebdb1aad",
   "metadata": {},
   "source": [
    "List and number all bibliographical references. When referenced in the text, enclose the citation number in square brackets, for example [1].\n",
    "\n",
    "[1] Authors. The frobnicatable foo filter, 2014. Face and Gesture submission ID 324. Supplied as additional material\n",
    "fg324.pdf. 3\n"
   ]
  }
 ],
 "metadata": {
  "kernelspec": {
   "display_name": "Python 3 (ipykernel)",
   "language": "python",
   "name": "python3"
  },
  "language_info": {
   "codemirror_mode": {
    "name": "ipython",
    "version": 3
   },
   "file_extension": ".py",
   "mimetype": "text/x-python",
   "name": "python",
   "nbconvert_exporter": "python",
   "pygments_lexer": "ipython3",
   "version": "3.9.12"
  }
 },
 "nbformat": 4,
 "nbformat_minor": 5
}
