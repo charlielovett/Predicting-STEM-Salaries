{
 "cells": [
  {
   "cell_type": "raw",
   "id": "33dd6c4c",
   "metadata": {},
   "source": [
    "---\n",
    "title: \"Project proposal\"\n",
    "format: \n",
    "  html:\n",
    "    toc: true\n",
    "    toc-title: Contents\n",
    "    code-fold: show\n",
    "    self-contained: true\n",
    "jupyter: python3\n",
    "---"
   ]
  },
  {
   "cell_type": "markdown",
   "id": "fe7ea9bb",
   "metadata": {},
   "source": [
    "# 1) Team name: LCJJ"
   ]
  },
  {
   "cell_type": "markdown",
   "id": "16fccc9b",
   "metadata": {},
   "source": [
    "# 2) Member names\n",
    "\n",
    "Charlie Lovett, Jacob Muriel, Lainey Neild, and Jack Troxel"
   ]
  },
  {
   "cell_type": "markdown",
   "id": "220a6528",
   "metadata": {},
   "source": [
    "# 3) [Link to the GitHub repository](https://github.com/jtroxel7/Predicting-STEM-Salaries)"
   ]
  },
  {
   "cell_type": "markdown",
   "id": "16c1a490",
   "metadata": {},
   "source": [
    "# 4) Topic\n",
    "\n",
    "Predicting salaries for employees in STEM fields (i.e. Software Engineering, Data Science, Product Management, etc.)."
   ]
  },
  {
   "cell_type": "markdown",
   "id": "9403cdfb",
   "metadata": {},
   "source": [
    "# 5) Problem statement\n",
    "\n",
    "Through this project, we will attempt to predict the salaries for employees that work in STEM fields. As we are predicting salaries, the response observed in this project is a continuous variable—their annunal salary in USD. We will assess our model accuracy using MAE. We have selected this metric instead of RMSE as there is no inherit risk or disadvantage in incorrectly predicting observations by a large margin."
   ]
  },
  {
   "cell_type": "markdown",
   "id": "57701e9e",
   "metadata": {},
   "source": [
    "## 5d) Naive model accuracy\n",
    "The MAE of the naive model is 45413.3, and the response variable had an initial standard deviation of 133092.7."
   ]
  },
  {
   "cell_type": "markdown",
   "id": "3eb2d4f2",
   "metadata": {},
   "source": [
    "# 6) Data\n",
    "\n",
    "## 6a) Source\n",
    "We will be using a data source comprised of salary data for employees in STEM fields. This dataset was found on Kaggle and contains data scraped from a salary collecting website (levels.fyi). The data can be found [here](https://www.kaggle.com/datasets/jackogozaly/data-science-and-stem-salaries). "
   ]
  },
  {
   "cell_type": "markdown",
   "id": "87bee818",
   "metadata": {},
   "source": [
    "## 6b) Response & predictors\n",
    "\n",
    "The response in this problem is `totalyearlycompensation`. Some of the predictors include `company`, `title`, `yearsofexperience`, `yearsatcompany`, `location`, `Education`, `Race`, and `Gender`."
   ]
  },
  {
   "cell_type": "markdown",
   "id": "8eb561c3",
   "metadata": {},
   "source": [
    "## 6c) Size\n",
    "What is the number of continuous predictors, categorical predictors, and observations in your dataset(s). If you are using multiple datasets, please provide the information for each dataset. When counting predictors, count only those that have sufficient non-missing values, and will be useful.\n",
    "\n",
    "There are ~21,000 observations in our dataset. There are 10 total predictors comprised of 2 continuous and 8 categorical predictors."
   ]
  },
  {
   "cell_type": "markdown",
   "id": "0450286f",
   "metadata": {},
   "source": [
    "# 7) Exisiting solutions\n",
    "Kaggle contains a few models that use the same dataset to predict the salaries of different STEM roles. \n",
    "\n",
    "The first model we found used a linear model with the equation y=15239.1 - 54181.3x where y is the base salary and x is years of experience. This model had a MSE of 1874996665938.7957. \n",
    "\n",
    "The second model we found utilized the Random Forest Regression module from sklearn.ensemble. The X variables this model used were years of experience, years at the company, education, race, and their job title. Their response variance was the employee's total yearly compensation. Unfortunately, there was no accuracy metrics published about this model nor was the equation published. One key observation this study reported was that general experience and years at the company were the most influential factors. \n",
    "\n",
    "The third model we found on Kaggle used the same dataset and utilized 3 different modules from sklearn to create 3 models—GradientBoostingRegressor, RandomForestRegressor, AdaBoostRegressor. After comparing the accuracy scores of these 3 models, they determined the gradient boosting regressor was the best model. This data scientist used all the variables as predictors incorporating dummy variables where needed. Their response variable was base salary. They then tested their final model on a validation test dataset and found a final MAE of ~13.6512. "
   ]
  },
  {
   "cell_type": "markdown",
   "id": "cb8a845f",
   "metadata": {},
   "source": [
    "# 8) Stakeholders"
   ]
  },
  {
   "cell_type": "markdown",
   "id": "d39c782c",
   "metadata": {},
   "source": [
    "The dataset our group has chosen to analyze investigates the compensation for various STEM roles at companies. Many groups of people could benefit from this analysis. Firstly, students pursuing a career in STEM would definitely be interested in this data. Although compensation does not drive most student's professional path, it certainly is a factor that holds weight. Secondly, colleges and universities would benefit from our group's analysis. By understanding which roles are in the highest demand in our society, they may place more emphasis on prioritizing resources and professors in those academic areas. Thirdly, employees would be interested in our findings to ensure that their compensation is fair relative to industry standards, giving them the opportunity to negotiate for higher pay. Fourthly, in the same way, our analysis could benefit employees, employers would benefit as they could see how their compensation packages compare to their competitor's compensation packages allowing them to understand better how they are attracting talent in these fields and how to make the open positions more attractive to prospective employees. "
   ]
  },
  {
   "cell_type": "markdown",
   "id": "0c874b4f",
   "metadata": {},
   "source": [
    "# 9) Work-split\n",
    "\n",
    "We will learn to develop and tune the following models in the STAT303 sequence:\n",
    "\n",
    "1. MARS - Jack Troxel\n",
    "\n",
    "2. Decision trees with cost-complexity pruning - Jack Troxel\n",
    "\n",
    "3. Bagging (Bagging MARS / decision trees) - Charlie Lovett\n",
    "\n",
    "4. Random Forests - Charlie Lovett\n",
    "\n",
    "5. AdaBoost - Lainey Neild\n",
    "\n",
    "6. Gradient boosting - Lainey Neild\n",
    "\n",
    "7. XGBoost - Jacob Muriel\n",
    "\n",
    "8. Lasso / Ridge / Stepwise selection - Jacob Muriel\n",
    "\n",
    "Each team member is required to develop and tune at least one of the above models. In the end, the team will combine all the developed models to create a model more accurate than each of the individual models."
   ]
  }
 ],
 "metadata": {
  "kernelspec": {
   "display_name": "Python 3 (ipykernel)",
   "language": "python",
   "name": "python3"
  },
  "language_info": {
   "codemirror_mode": {
    "name": "ipython",
    "version": 3
   },
   "file_extension": ".py",
   "mimetype": "text/x-python",
   "name": "python",
   "nbconvert_exporter": "python",
   "pygments_lexer": "ipython3",
   "version": "3.9.13"
  }
 },
 "nbformat": 4,
 "nbformat_minor": 5
}
