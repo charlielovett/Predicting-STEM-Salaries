{
 "cells": [
  {
   "cell_type": "code",
   "execution_count": 2,
   "id": "98957e7c",
   "metadata": {},
   "outputs": [],
   "source": [
    "import pandas as pd\n",
    "import numpy as np\n",
    "import seaborn as sns\n",
    "import matplotlib.pyplot as plt\n",
    "from sklearn.metrics import mean_squared_error\n",
    "from sklearn.model_selection import cross_val_score,train_test_split, KFold, cross_val_predict\n",
    "from sklearn.metrics import mean_squared_error,r2_score,roc_curve,auc,precision_recall_curve, accuracy_score, \\\n",
    "recall_score, precision_score, confusion_matrix, mean_absolute_error\n",
    "from sklearn.tree import DecisionTreeRegressor,DecisionTreeClassifier\n",
    "from sklearn.model_selection import GridSearchCV, ParameterGrid, StratifiedKFold, RandomizedSearchCV\n",
    "from sklearn.ensemble import VotingRegressor, VotingClassifier, StackingRegressor, StackingClassifier, GradientBoostingRegressor,GradientBoostingClassifier, BaggingRegressor,BaggingClassifier,RandomForestRegressor,RandomForestClassifier,AdaBoostRegressor,AdaBoostClassifier\n",
    "from sklearn.linear_model import LinearRegression,LogisticRegression, LassoCV, RidgeCV, ElasticNetCV\n",
    "from sklearn.neighbors import KNeighborsRegressor\n",
    "import itertools as it\n",
    "import time as time\n",
    "import xgboost as xgb\n",
    "from pyearth import Earth"
   ]
  },
  {
   "cell_type": "code",
   "execution_count": 3,
   "id": "bffe258d",
   "metadata": {},
   "outputs": [],
   "source": [
    "import warnings\n",
    "warnings.filterwarnings(\"ignore\")"
   ]
  },
  {
   "cell_type": "code",
   "execution_count": 4,
   "id": "5808999b",
   "metadata": {},
   "outputs": [],
   "source": [
    "X = pd.read_csv('X_train.csv').drop(columns = \"Unnamed: 0\")\n",
    "X_test = pd.read_csv('X_test.csv').drop(columns = \"Unnamed: 0\")\n",
    "y = pd.read_csv('y_train.csv').drop(columns = \"Unnamed: 0\")\n",
    "y_test = pd.read_csv('y_test.csv').drop(columns = \"Unnamed: 0\")"
   ]
  },
  {
   "cell_type": "code",
   "execution_count": 112,
   "id": "88b0b10e",
   "metadata": {},
   "outputs": [],
   "source": [
    "y = np.log(y)"
   ]
  },
  {
   "cell_type": "code",
   "execution_count": 130,
   "id": "0f3b5ecb",
   "metadata": {},
   "outputs": [
    {
     "data": {
      "text/plain": [
       "totalyearlycompensation    197257.98981\n",
       "dtype: float64"
      ]
     },
     "execution_count": 130,
     "metadata": {},
     "output_type": "execute_result"
    }
   ],
   "source": [
    "y.mean()"
   ]
  },
  {
   "cell_type": "code",
   "execution_count": 125,
   "id": "8eeb2ce6",
   "metadata": {},
   "outputs": [
    {
     "data": {
      "text/plain": [
       "21590"
      ]
     },
     "execution_count": 125,
     "metadata": {},
     "output_type": "execute_result"
    }
   ],
   "source": [
    "12954+8636"
   ]
  },
  {
   "cell_type": "code",
   "execution_count": 121,
   "id": "8c60b4da",
   "metadata": {},
   "outputs": [
    {
     "data": {
      "text/plain": [
       "87175.84070961976"
      ]
     },
     "execution_count": 121,
     "metadata": {},
     "output_type": "execute_result"
    }
   ],
   "source": [
    "value = 12.002732\n",
    "size = 8636\n",
    "\n",
    "y_pred = np.full(size, value)\n",
    "\n",
    "mean_absolute_error(np.exp(y_pred), y_test)"
   ]
  },
  {
   "cell_type": "markdown",
   "id": "0a48acbe",
   "metadata": {},
   "source": [
    "# Linear Model"
   ]
  },
  {
   "cell_type": "code",
   "execution_count": 17,
   "id": "59dd9cb3",
   "metadata": {},
   "outputs": [
    {
     "data": {
      "text/html": [
       "<div>\n",
       "<style scoped>\n",
       "    .dataframe tbody tr th:only-of-type {\n",
       "        vertical-align: middle;\n",
       "    }\n",
       "\n",
       "    .dataframe tbody tr th {\n",
       "        vertical-align: top;\n",
       "    }\n",
       "\n",
       "    .dataframe thead th {\n",
       "        text-align: right;\n",
       "    }\n",
       "</style>\n",
       "<table border=\"1\" class=\"dataframe\">\n",
       "  <thead>\n",
       "    <tr style=\"text-align: right;\">\n",
       "      <th></th>\n",
       "      <th>totalyearlycompensation</th>\n",
       "    </tr>\n",
       "  </thead>\n",
       "  <tbody>\n",
       "    <tr>\n",
       "      <th>count</th>\n",
       "      <td>1.295400e+04</td>\n",
       "    </tr>\n",
       "    <tr>\n",
       "      <th>mean</th>\n",
       "      <td>1.972580e+05</td>\n",
       "    </tr>\n",
       "    <tr>\n",
       "      <th>std</th>\n",
       "      <td>1.313298e+05</td>\n",
       "    </tr>\n",
       "    <tr>\n",
       "      <th>min</th>\n",
       "      <td>1.000000e+04</td>\n",
       "    </tr>\n",
       "    <tr>\n",
       "      <th>25%</th>\n",
       "      <td>1.190000e+05</td>\n",
       "    </tr>\n",
       "    <tr>\n",
       "      <th>50%</th>\n",
       "      <td>1.730000e+05</td>\n",
       "    </tr>\n",
       "    <tr>\n",
       "      <th>75%</th>\n",
       "      <td>2.450000e+05</td>\n",
       "    </tr>\n",
       "    <tr>\n",
       "      <th>max</th>\n",
       "      <td>4.980000e+06</td>\n",
       "    </tr>\n",
       "  </tbody>\n",
       "</table>\n",
       "</div>"
      ],
      "text/plain": [
       "       totalyearlycompensation\n",
       "count             1.295400e+04\n",
       "mean              1.972580e+05\n",
       "std               1.313298e+05\n",
       "min               1.000000e+04\n",
       "25%               1.190000e+05\n",
       "50%               1.730000e+05\n",
       "75%               2.450000e+05\n",
       "max               4.980000e+06"
      ]
     },
     "execution_count": 17,
     "metadata": {},
     "output_type": "execute_result"
    }
   ],
   "source": [
    "y.describe()"
   ]
  },
  {
   "cell_type": "code",
   "execution_count": 113,
   "id": "509c4696",
   "metadata": {},
   "outputs": [
    {
     "data": {
      "text/plain": [
       "LinearRegression()"
      ]
     },
     "execution_count": 113,
     "metadata": {},
     "output_type": "execute_result"
    }
   ],
   "source": [
    "# Create a model object - not trained yet\n",
    "lr = LinearRegression()\n",
    "\n",
    "# Train the model\n",
    "lr.fit(X, y)"
   ]
  },
  {
   "cell_type": "code",
   "execution_count": 114,
   "id": "3e968305",
   "metadata": {},
   "outputs": [],
   "source": [
    "X_test.drop(index = 3415, inplace = True)\n",
    "y_test.drop(index = 3415, inplace = True)"
   ]
  },
  {
   "cell_type": "code",
   "execution_count": 115,
   "id": "e8026e46",
   "metadata": {},
   "outputs": [
    {
     "data": {
      "text/plain": [
       "55484.18242534074"
      ]
     },
     "execution_count": 115,
     "metadata": {},
     "output_type": "execute_result"
    }
   ],
   "source": [
    "mean_absolute_error(np.exp(lr.predict(X_test)), y_test)"
   ]
  },
  {
   "cell_type": "code",
   "execution_count": 105,
   "id": "f6d0d33a",
   "metadata": {},
   "outputs": [
    {
     "ename": "ValueError",
     "evalue": "X has 1 features, but LinearRegression is expecting 106 features as input.",
     "output_type": "error",
     "traceback": [
      "\u001b[0;31m---------------------------------------------------------------------------\u001b[0m",
      "\u001b[0;31mValueError\u001b[0m                                Traceback (most recent call last)",
      "\u001b[0;32m/var/folders/8r/9lj6p8855h77pyqwtfm2z63m0000gn/T/ipykernel_2085/923587945.py\u001b[0m in \u001b[0;36m<module>\u001b[0;34m\u001b[0m\n\u001b[1;32m      7\u001b[0m \u001b[0mw\u001b[0m \u001b[0;34m=\u001b[0m \u001b[0mnp\u001b[0m\u001b[0;34m.\u001b[0m\u001b[0marray\u001b[0m\u001b[0;34m(\u001b[0m\u001b[0mw\u001b[0m\u001b[0;34m)\u001b[0m\u001b[0;34m\u001b[0m\u001b[0;34m\u001b[0m\u001b[0m\n\u001b[1;32m      8\u001b[0m \u001b[0mz\u001b[0m \u001b[0;34m=\u001b[0m \u001b[0mnp\u001b[0m\u001b[0;34m.\u001b[0m\u001b[0marray\u001b[0m\u001b[0;34m(\u001b[0m\u001b[0mz\u001b[0m\u001b[0;34m)\u001b[0m\u001b[0;34m\u001b[0m\u001b[0;34m\u001b[0m\u001b[0m\n\u001b[0;32m----> 9\u001b[0;31m \u001b[0mmean_absolute_error\u001b[0m\u001b[0;34m(\u001b[0m\u001b[0mlr\u001b[0m\u001b[0;34m.\u001b[0m\u001b[0mpredict\u001b[0m\u001b[0;34m(\u001b[0m\u001b[0mz\u001b[0m\u001b[0;34m)\u001b[0m\u001b[0;34m,\u001b[0m \u001b[0mw\u001b[0m\u001b[0;34m)\u001b[0m\u001b[0;34m\u001b[0m\u001b[0;34m\u001b[0m\u001b[0m\n\u001b[0m",
      "\u001b[0;32m/opt/anaconda3/lib/python3.9/site-packages/sklearn/linear_model/_base.py\u001b[0m in \u001b[0;36mpredict\u001b[0;34m(self, X)\u001b[0m\n\u001b[1;32m    360\u001b[0m             \u001b[0mReturns\u001b[0m \u001b[0mpredicted\u001b[0m \u001b[0mvalues\u001b[0m\u001b[0;34m.\u001b[0m\u001b[0;34m\u001b[0m\u001b[0;34m\u001b[0m\u001b[0m\n\u001b[1;32m    361\u001b[0m         \"\"\"\n\u001b[0;32m--> 362\u001b[0;31m         \u001b[0;32mreturn\u001b[0m \u001b[0mself\u001b[0m\u001b[0;34m.\u001b[0m\u001b[0m_decision_function\u001b[0m\u001b[0;34m(\u001b[0m\u001b[0mX\u001b[0m\u001b[0;34m)\u001b[0m\u001b[0;34m\u001b[0m\u001b[0;34m\u001b[0m\u001b[0m\n\u001b[0m\u001b[1;32m    363\u001b[0m \u001b[0;34m\u001b[0m\u001b[0m\n\u001b[1;32m    364\u001b[0m     \u001b[0m_preprocess_data\u001b[0m \u001b[0;34m=\u001b[0m \u001b[0mstaticmethod\u001b[0m\u001b[0;34m(\u001b[0m\u001b[0m_preprocess_data\u001b[0m\u001b[0;34m)\u001b[0m\u001b[0;34m\u001b[0m\u001b[0;34m\u001b[0m\u001b[0m\n",
      "\u001b[0;32m/opt/anaconda3/lib/python3.9/site-packages/sklearn/linear_model/_base.py\u001b[0m in \u001b[0;36m_decision_function\u001b[0;34m(self, X)\u001b[0m\n\u001b[1;32m    343\u001b[0m         \u001b[0mcheck_is_fitted\u001b[0m\u001b[0;34m(\u001b[0m\u001b[0mself\u001b[0m\u001b[0;34m)\u001b[0m\u001b[0;34m\u001b[0m\u001b[0;34m\u001b[0m\u001b[0m\n\u001b[1;32m    344\u001b[0m \u001b[0;34m\u001b[0m\u001b[0m\n\u001b[0;32m--> 345\u001b[0;31m         \u001b[0mX\u001b[0m \u001b[0;34m=\u001b[0m \u001b[0mself\u001b[0m\u001b[0;34m.\u001b[0m\u001b[0m_validate_data\u001b[0m\u001b[0;34m(\u001b[0m\u001b[0mX\u001b[0m\u001b[0;34m,\u001b[0m \u001b[0maccept_sparse\u001b[0m\u001b[0;34m=\u001b[0m\u001b[0;34m[\u001b[0m\u001b[0;34m\"csr\"\u001b[0m\u001b[0;34m,\u001b[0m \u001b[0;34m\"csc\"\u001b[0m\u001b[0;34m,\u001b[0m \u001b[0;34m\"coo\"\u001b[0m\u001b[0;34m]\u001b[0m\u001b[0;34m,\u001b[0m \u001b[0mreset\u001b[0m\u001b[0;34m=\u001b[0m\u001b[0;32mFalse\u001b[0m\u001b[0;34m)\u001b[0m\u001b[0;34m\u001b[0m\u001b[0;34m\u001b[0m\u001b[0m\n\u001b[0m\u001b[1;32m    346\u001b[0m         \u001b[0;32mreturn\u001b[0m \u001b[0msafe_sparse_dot\u001b[0m\u001b[0;34m(\u001b[0m\u001b[0mX\u001b[0m\u001b[0;34m,\u001b[0m \u001b[0mself\u001b[0m\u001b[0;34m.\u001b[0m\u001b[0mcoef_\u001b[0m\u001b[0;34m.\u001b[0m\u001b[0mT\u001b[0m\u001b[0;34m,\u001b[0m \u001b[0mdense_output\u001b[0m\u001b[0;34m=\u001b[0m\u001b[0;32mTrue\u001b[0m\u001b[0;34m)\u001b[0m \u001b[0;34m+\u001b[0m \u001b[0mself\u001b[0m\u001b[0;34m.\u001b[0m\u001b[0mintercept_\u001b[0m\u001b[0;34m\u001b[0m\u001b[0;34m\u001b[0m\u001b[0m\n\u001b[1;32m    347\u001b[0m \u001b[0;34m\u001b[0m\u001b[0m\n",
      "\u001b[0;32m/opt/anaconda3/lib/python3.9/site-packages/sklearn/base.py\u001b[0m in \u001b[0;36m_validate_data\u001b[0;34m(self, X, y, reset, validate_separately, **check_params)\u001b[0m\n\u001b[1;32m    583\u001b[0m \u001b[0;34m\u001b[0m\u001b[0m\n\u001b[1;32m    584\u001b[0m         \u001b[0;32mif\u001b[0m \u001b[0;32mnot\u001b[0m \u001b[0mno_val_X\u001b[0m \u001b[0;32mand\u001b[0m \u001b[0mcheck_params\u001b[0m\u001b[0;34m.\u001b[0m\u001b[0mget\u001b[0m\u001b[0;34m(\u001b[0m\u001b[0;34m\"ensure_2d\"\u001b[0m\u001b[0;34m,\u001b[0m \u001b[0;32mTrue\u001b[0m\u001b[0;34m)\u001b[0m\u001b[0;34m:\u001b[0m\u001b[0;34m\u001b[0m\u001b[0;34m\u001b[0m\u001b[0m\n\u001b[0;32m--> 585\u001b[0;31m             \u001b[0mself\u001b[0m\u001b[0;34m.\u001b[0m\u001b[0m_check_n_features\u001b[0m\u001b[0;34m(\u001b[0m\u001b[0mX\u001b[0m\u001b[0;34m,\u001b[0m \u001b[0mreset\u001b[0m\u001b[0;34m=\u001b[0m\u001b[0mreset\u001b[0m\u001b[0;34m)\u001b[0m\u001b[0;34m\u001b[0m\u001b[0;34m\u001b[0m\u001b[0m\n\u001b[0m\u001b[1;32m    586\u001b[0m \u001b[0;34m\u001b[0m\u001b[0m\n\u001b[1;32m    587\u001b[0m         \u001b[0;32mreturn\u001b[0m \u001b[0mout\u001b[0m\u001b[0;34m\u001b[0m\u001b[0;34m\u001b[0m\u001b[0m\n",
      "\u001b[0;32m/opt/anaconda3/lib/python3.9/site-packages/sklearn/base.py\u001b[0m in \u001b[0;36m_check_n_features\u001b[0;34m(self, X, reset)\u001b[0m\n\u001b[1;32m    398\u001b[0m \u001b[0;34m\u001b[0m\u001b[0m\n\u001b[1;32m    399\u001b[0m         \u001b[0;32mif\u001b[0m \u001b[0mn_features\u001b[0m \u001b[0;34m!=\u001b[0m \u001b[0mself\u001b[0m\u001b[0;34m.\u001b[0m\u001b[0mn_features_in_\u001b[0m\u001b[0;34m:\u001b[0m\u001b[0;34m\u001b[0m\u001b[0;34m\u001b[0m\u001b[0m\n\u001b[0;32m--> 400\u001b[0;31m             raise ValueError(\n\u001b[0m\u001b[1;32m    401\u001b[0m                 \u001b[0;34mf\"X has {n_features} features, but {self.__class__.__name__} \"\u001b[0m\u001b[0;34m\u001b[0m\u001b[0;34m\u001b[0m\u001b[0m\n\u001b[1;32m    402\u001b[0m                 \u001b[0;34mf\"is expecting {self.n_features_in_} features as input.\"\u001b[0m\u001b[0;34m\u001b[0m\u001b[0;34m\u001b[0m\u001b[0m\n",
      "\u001b[0;31mValueError\u001b[0m: X has 1 features, but LinearRegression is expecting 106 features as input."
     ]
    }
   ],
   "source": [
    "z = lr.predict(X_test)\n",
    "z = z.tolist()\n",
    "del w[z.index(max(z))]\n",
    "del z[z.index(max(z))]\n",
    "w = y_test.values.tolist()\n",
    "w = np.array(w)\n",
    "z = np.array(z)\n",
    "mean_absolute_error(lr.predict(z), w)"
   ]
  },
  {
   "cell_type": "code",
   "execution_count": 106,
   "id": "b39c28e4",
   "metadata": {},
   "outputs": [
    {
     "data": {
      "text/plain": [
       "array([[116431.375],\n",
       "       [138310.625],\n",
       "       [310627.   ],\n",
       "       ...,\n",
       "       [189154.5  ],\n",
       "       [182421.5  ],\n",
       "       [103334.625]])"
      ]
     },
     "execution_count": 106,
     "metadata": {},
     "output_type": "execute_result"
    }
   ],
   "source": [
    "z"
   ]
  },
  {
   "cell_type": "code",
   "execution_count": 54,
   "id": "4f8f3a18",
   "metadata": {},
   "outputs": [
    {
     "data": {
      "text/plain": [
       "33822719334.732243"
      ]
     },
     "execution_count": 54,
     "metadata": {},
     "output_type": "execute_result"
    }
   ],
   "source": [
    "mean_absolute_error(lr.predict(X_test), y_test)"
   ]
  },
  {
   "cell_type": "markdown",
   "id": "2acd96c5",
   "metadata": {},
   "source": [
    "# Number of Trees vs. CV Error"
   ]
  },
  {
   "cell_type": "code",
   "execution_count": 54,
   "id": "9f598873",
   "metadata": {},
   "outputs": [
    {
     "name": "stdout",
     "output_type": "stream",
     "text": [
      ">5 1.392 (0.002)\n",
      ">10 0.642 (0.002)\n",
      ">50 0.516 (0.006)\n",
      ">100 0.515 (0.007)\n",
      ">500 0.530 (0.006)\n",
      ">1000 0.542 (0.005)\n",
      ">2000 0.555 (0.005)\n",
      ">5000 0.569 (0.005)\n"
     ]
    },
    {
     "data": {
      "text/plain": [
       "Text(0.5, 0, 'Number of trees')"
      ]
     },
     "execution_count": 54,
     "metadata": {},
     "output_type": "execute_result"
    },
    {
     "data": {
      "image/png": "[encoded data removed]",
      "text/plain": [
       "<Figure size 640x480 with 1 Axes>"
      ]
     },
     "metadata": {},
     "output_type": "display_data"
    }
   ],
   "source": [
    "def get_models():\n",
    "    models = dict()\n",
    "    # define number of trees to consider\n",
    "    n_trees = [5, 10, 50, 100, 500, 1000, 2000, 5000]\n",
    "    for n in n_trees:\n",
    "        models[str(n)] = xgb.XGBRegressor(n_estimators=n,random_state=1)\n",
    "    return models\n",
    "\n",
    "# evaluate a given model using cross-validation\n",
    "def evaluate_model(model, X, y):\n",
    "    # define the evaluation procedure\n",
    "    cv = KFold(n_splits=5, shuffle=True, random_state=1)\n",
    "    # evaluate the model and collect the results\n",
    "    scores = np.sqrt(-cross_val_score(model, X, y, scoring='neg_mean_absolute_error', cv=cv, n_jobs=-1))\n",
    "    return scores\n",
    "\n",
    "# get the models to evaluate\n",
    "models = get_models()\n",
    "# evaluate the models and store results\n",
    "results, names = list(), list()\n",
    "for name, model in models.items():\n",
    "    # evaluate the model\n",
    "    scores = evaluate_model(model, X, y)\n",
    "    # store the results\n",
    "    results.append(scores)\n",
    "    names.append(name)\n",
    "    # summarize the performance along the way\n",
    "    print('>%s %.3f (%.3f)' % (name, np.mean(scores), np.std(scores)))\n",
    "# plot model performance for comparison\n",
    "plt.boxplot(results, labels=names, showmeans=True)\n",
    "plt.ylabel('Cross validation error',fontsize=15)\n",
    "plt.xlabel('Number of trees',fontsize=15)"
   ]
  },
  {
   "cell_type": "markdown",
   "id": "7ea33ae6",
   "metadata": {},
   "source": [
    "# Depth of Tree vs. CV Error"
   ]
  },
  {
   "cell_type": "code",
   "execution_count": 55,
   "id": "37d897c2",
   "metadata": {},
   "outputs": [
    {
     "name": "stdout",
     "output_type": "stream",
     "text": [
      ">1 0.544 (0.008)\n",
      ">2 0.526 (0.009)\n",
      ">3 0.518 (0.009)\n",
      ">4 0.515 (0.010)\n",
      ">5 0.514 (0.009)\n",
      ">6 0.513 (0.009)\n",
      ">7 0.514 (0.008)\n",
      ">8 0.517 (0.008)\n",
      ">9 0.520 (0.008)\n",
      ">10 0.522 (0.009)\n",
      ">11 0.524 (0.008)\n",
      ">12 0.528 (0.008)\n",
      ">13 0.530 (0.008)\n",
      ">14 0.533 (0.008)\n",
      ">15 0.535 (0.008)\n",
      ">16 0.537 (0.008)\n",
      ">17 0.540 (0.007)\n",
      ">18 0.540 (0.007)\n",
      ">19 0.539 (0.006)\n",
      ">20 0.541 (0.007)\n"
     ]
    },
    {
     "data": {
      "text/plain": [
       "Text(0.5, 0, 'Depth of each tree')"
      ]
     },
     "execution_count": 55,
     "metadata": {},
     "output_type": "execute_result"
    },
    {
     "data": {
      "image/png": "[encoded data removed]",
      "text/plain": [
       "<Figure size 640x480 with 1 Axes>"
      ]
     },
     "metadata": {},
     "output_type": "display_data"
    }
   ],
   "source": [
    "# get a list of models to evaluate\n",
    "def get_models():\n",
    "    models = dict()\n",
    "    # explore depths from 1 to 20\n",
    "    for i in range(1,21):\n",
    "        # define ensemble model\n",
    "        models[str(i)] = xgb.XGBRegressor(random_state=1,max_depth=i)\n",
    "    return models\n",
    "\n",
    "# evaluate a given model using cross-validation\n",
    "def evaluate_model(model, X, y):\n",
    "    # define the evaluation procedure\n",
    "    cv = KFold(n_splits=10, shuffle=True, random_state=1)\n",
    "    # evaluate the model and collect the results\n",
    "    scores = np.sqrt(-cross_val_score(model, X, y, scoring='neg_mean_absolute_error', cv=cv, n_jobs=-1))\n",
    "    return scores\n",
    "\n",
    "# get the models to evaluate\n",
    "models = get_models()\n",
    "# evaluate the models and store results\n",
    "results, names = list(), list()\n",
    "for name, model in models.items():\n",
    "    # evaluate the model\n",
    "    scores = evaluate_model(model, X, y)\n",
    "    # store the results\n",
    "    results.append(scores)\n",
    "    names.append(name)\n",
    "    # summarize the performance along the way\n",
    "    print('>%s %.3f (%.3f)' % (name, np.mean(scores), np.std(scores)))\n",
    "plt.boxplot(results, labels=names, showmeans=True)\n",
    "plt.ylabel('Cross validation error',fontsize=15)\n",
    "plt.xlabel('Depth of each tree',fontsize=15)"
   ]
  },
  {
   "cell_type": "markdown",
   "id": "6dde53b8",
   "metadata": {},
   "source": [
    "# Learning Rate vs. CV Error"
   ]
  },
  {
   "cell_type": "code",
   "execution_count": 59,
   "id": "44477e61",
   "metadata": {},
   "outputs": [
    {
     "name": "stdout",
     "output_type": "stream",
     "text": [
      ">0.1000 0.5 (0.0)\n",
      ">0.2000 0.5 (0.0)\n",
      ">0.3000 0.5 (0.0)\n",
      ">0.4000 0.5 (0.0)\n",
      ">0.5000 0.5 (0.0)\n",
      ">0.6000 0.5 (0.0)\n",
      ">0.8000 0.5 (0.0)\n",
      ">1.0000 0.6 (0.0)\n"
     ]
    },
    {
     "data": {
      "text/plain": [
       "Text(0.5, 0, 'Learning rate')"
      ]
     },
     "execution_count": 59,
     "metadata": {},
     "output_type": "execute_result"
    },
    {
     "data": {
      "image/png": "[encoded data removed]",
      "text/plain": [
       "<Figure size 700x700 with 1 Axes>"
      ]
     },
     "metadata": {},
     "output_type": "display_data"
    }
   ],
   "source": [
    "def get_models():\n",
    "    models = dict()\n",
    "    # explore learning rates from 0.1 to 2 in 0.1 increments\n",
    "    for i in [0.1,0.2,0.3,0.4,0.5,0.6,0.8,1.0]:\n",
    "        key = '%.4f' % i\n",
    "        models[key] = xgb.XGBRegressor(learning_rate=i,random_state=1)\n",
    "    return models\n",
    "\n",
    "# evaluate a given model using cross-validation\n",
    "def evaluate_model(model, X, y):\n",
    "    # define the evaluation procedure\n",
    "    cv = KFold(n_splits=10, shuffle=True, random_state=1)\n",
    "    # evaluate the model and collect the results\n",
    "    scores = np.sqrt(-cross_val_score(model, X, y, scoring='neg_mean_absolute_error', cv=cv, n_jobs=-1))\n",
    "    return scores\n",
    "\n",
    "# get the models to evaluate\n",
    "models = get_models()\n",
    "# evaluate the models and store results\n",
    "results, names = list(), list()\n",
    "for name, model in models.items():\n",
    "    # evaluate the model\n",
    "    scores = evaluate_model(model, X, y)\n",
    "    # store the results\n",
    "    results.append(scores)\n",
    "    names.append(name)\n",
    "    # summarize the performance along the way\n",
    "    print('>%s %.1f (%.1f)' % (name, np.mean(scores), np.std(scores)))\n",
    "# plot model performance for comparison\n",
    "plt.figure(figsize=(7, 7))\n",
    "plt.boxplot(results, labels=names, showmeans=True)\n",
    "plt.ylabel('Cross validation error',fontsize=15)\n",
    "plt.xlabel('Learning rate',fontsize=15)"
   ]
  },
  {
   "cell_type": "markdown",
   "id": "bcd217e6",
   "metadata": {},
   "source": [
    "# Reg_lambda vs. CV Error"
   ]
  },
  {
   "cell_type": "code",
   "execution_count": 57,
   "id": "87343687",
   "metadata": {},
   "outputs": [
    {
     "name": "stdout",
     "output_type": "stream",
     "text": [
      ">0.0000 0.5 (0.0)\n",
      ">0.5000 0.5 (0.0)\n",
      ">1.0000 0.5 (0.0)\n",
      ">1.5000 0.5 (0.0)\n",
      ">2.0000 0.5 (0.0)\n",
      ">10.0000 0.5 (0.0)\n",
      ">100.0000 0.5 (0.0)\n"
     ]
    },
    {
     "data": {
      "text/plain": [
       "Text(0.5, 0, 'reg_lambda')"
      ]
     },
     "execution_count": 57,
     "metadata": {},
     "output_type": "execute_result"
    },
    {
     "data": {
      "image/png": "[encoded data removed]",
      "text/plain": [
       "<Figure size 700x700 with 1 Axes>"
      ]
     },
     "metadata": {},
     "output_type": "display_data"
    }
   ],
   "source": [
    "def get_models():\n",
    "    models = dict()\n",
    "    # explore 'reg_lambda' from 0.1 to 2 in 0.1 increments\n",
    "    for i in [0,0.5,1.0,1.5,2,10,100]:\n",
    "        key = '%.4f' % i\n",
    "        models[key] = xgb.XGBRegressor(reg_lambda=i,random_state=1)\n",
    "    return models\n",
    "\n",
    "# evaluate a given model using cross-validation\n",
    "def evaluate_model(model, X, y):\n",
    "    # define the evaluation procedure\n",
    "    cv = KFold(n_splits=10, shuffle=True, random_state=1)\n",
    "    # evaluate the model and collect the results\n",
    "    scores = np.sqrt(-cross_val_score(model, X, y, scoring='neg_mean_absolute_error', cv=cv, n_jobs=-1))\n",
    "    return scores\n",
    "\n",
    "# get the models to evaluate\n",
    "models = get_models()\n",
    "# evaluate the models and store results\n",
    "results, names = list(), list()\n",
    "for name, model in models.items():\n",
    "    # evaluate the model\n",
    "    scores = evaluate_model(model, X, y)\n",
    "    # store the results\n",
    "    results.append(scores)\n",
    "    names.append(name)\n",
    "    # summarize the performance along the way\n",
    "    print('>%s %.1f (%.1f)' % (name, np.mean(scores), np.std(scores)))\n",
    "# plot model performance for comparison\n",
    "plt.figure(figsize=(7, 7))\n",
    "plt.boxplot(results, labels=names, showmeans=True)\n",
    "plt.ylabel('Cross validation error',fontsize=15)\n",
    "plt.xlabel('reg_lambda',fontsize=15)"
   ]
  },
  {
   "cell_type": "markdown",
   "id": "e4b9e8bf",
   "metadata": {},
   "source": [
    "# Gamma vs. CV Error"
   ]
  },
  {
   "cell_type": "code",
   "execution_count": 58,
   "id": "396c61fe",
   "metadata": {},
   "outputs": [
    {
     "name": "stdout",
     "output_type": "stream",
     "text": [
      ">0.0000 0.5 (0.0)\n",
      ">10.0000 0.5 (0.0)\n",
      ">100.0000 0.6 (0.0)\n",
      ">1000.0000 0.7 (0.0)\n",
      ">10000.0000 0.7 (0.0)\n",
      ">100000.0000 0.7 (0.0)\n",
      ">1000000.0000 0.7 (0.0)\n",
      ">10000000.0000 0.7 (0.0)\n",
      ">100000000.0000 0.7 (0.0)\n",
      ">1000000000.0000 0.7 (0.0)\n"
     ]
    },
    {
     "data": {
      "text/plain": [
       "Text(0.5, 0, 'gamma')"
      ]
     },
     "execution_count": 58,
     "metadata": {},
     "output_type": "execute_result"
    },
    {
     "data": {
      "image/png": "[encoded data removed]",
      "text/plain": [
       "<Figure size 700x700 with 1 Axes>"
      ]
     },
     "metadata": {},
     "output_type": "display_data"
    }
   ],
   "source": [
    "def get_models():\n",
    "    models = dict()\n",
    "    # explore gamma from 0.1 to 2 in 0.1 increments\n",
    "    for i in [0,10,1e2,1e3,1e4,1e5,1e6,1e7,1e8,1e9]:\n",
    "        key = '%.4f' % i\n",
    "        models[key] = xgb.XGBRegressor(gamma=i,random_state=1)\n",
    "    return models\n",
    "\n",
    "# evaluate a given model using cross-validation\n",
    "def evaluate_model(model, X, y):\n",
    "    # define the evaluation procedure\n",
    "    cv = KFold(n_splits=10, shuffle=True, random_state=1)\n",
    "    # evaluate the model and collect the results\n",
    "    scores = np.sqrt(-cross_val_score(model, X, y, scoring='neg_mean_absolute_error', cv=cv, n_jobs=-1))\n",
    "    return scores\n",
    "\n",
    "# get the models to evaluate\n",
    "models = get_models()\n",
    "# evaluate the models and store results\n",
    "results, names = list(), list()\n",
    "for name, model in models.items():\n",
    "    # evaluate the model\n",
    "    scores = evaluate_model(model, X, y)\n",
    "    # store the results\n",
    "    results.append(scores)\n",
    "    names.append(name)\n",
    "    # summarize the performance along the way\n",
    "    print('>%s %.1f (%.1f)' % (name, np.mean(scores), np.std(scores)))\n",
    "# plot model performance for comparison\n",
    "plt.figure(figsize=(7, 7))\n",
    "plt.boxplot(results, labels=names, showmeans=True)\n",
    "plt.ylabel('Cross validation error',fontsize=15)\n",
    "plt.xlabel('gamma',fontsize=15)"
   ]
  },
  {
   "cell_type": "markdown",
   "id": "b12a003a",
   "metadata": {},
   "source": [
    "# Tuning"
   ]
  },
  {
   "cell_type": "code",
   "execution_count": 6,
   "id": "83517ffb",
   "metadata": {},
   "outputs": [
    {
     "name": "stdout",
     "output_type": "stream",
     "text": [
      "Fitting 2 folds for each of 144 candidates, totalling 288 fits\n",
      "Optimal parameter values = {'subsample': 0.4, 'reg_lambda': 10, 'n_estimators': 200, 'max_depth': 5, 'learning_rate': 0.1, 'gamma': 0}\n",
      "Optimal cross validation R-squared =  0.6851588815224346\n",
      "Time taken =  3.2389204184214275  minutes\n"
     ]
    }
   ],
   "source": [
    "#Coarse Tuning\n",
    "#K-fold cross validation to find optimal parameters for XGBoost\n",
    "start_time = time.time()\n",
    "param_grid = {'max_depth': [4,5,6,7],\n",
    "              'learning_rate': [0.1,0.2,0.3],\n",
    "               'reg_lambda':[2, 10],\n",
    "                'n_estimators':[200],\n",
    "                'gamma': [0, 10],\n",
    "                'subsample': [0.3,0.4,0.5]}\n",
    "\n",
    "cv = KFold(n_splits=2,shuffle=True,random_state=1)\n",
    "optimal_params = RandomizedSearchCV(estimator=xgb.XGBRegressor(random_state=1),                                                       \n",
    "                             param_distributions = param_grid, n_iter = 200,\n",
    "                             verbose = 1,\n",
    "                             n_jobs=-1,\n",
    "                             cv = cv)\n",
    "optimal_params.fit(X,y)\n",
    "print(\"Optimal parameter values =\", optimal_params.best_params_)\n",
    "print(\"Optimal cross validation R-squared = \",optimal_params.best_score_)\n",
    "print(\"Time taken = \", (time.time()-start_time)/60, \" minutes\")"
   ]
  },
  {
   "cell_type": "code",
   "execution_count": 11,
   "id": "9b40134b",
   "metadata": {},
   "outputs": [
    {
     "name": "stdout",
     "output_type": "stream",
     "text": [
      "Fitting 2 folds for each of 216 candidates, totalling 432 fits\n",
      "Optimal parameter values = {'gamma': 0, 'learning_rate': 0.1, 'max_depth': 5, 'n_estimators': 200, 'reg_lambda': 10, 'subsample': 0.4}\n",
      "Optimal cross validation R-squared =  0.6851588815224346\n",
      "Time taken =  4.750239682197571  minutes\n"
     ]
    }
   ],
   "source": [
    "#Coarse Tuning\n",
    "#K-fold cross validation to find optimal parameters for XGBoost\n",
    "start_time = time.time()\n",
    "param_grid = {'max_depth': [4,5,6,7],\n",
    "              'learning_rate': [0.1,0.2,0.3],\n",
    "               'reg_lambda':[2, 10, 100],\n",
    "                'n_estimators':[200],\n",
    "                'gamma': [0, 10],\n",
    "                'subsample': [0.3,0.4,0.5]}\n",
    "\n",
    "cv = KFold(n_splits=2,shuffle=True,random_state=1)\n",
    "optimal_params = GridSearchCV(estimator=xgb.XGBRegressor(random_state=1),                                                       \n",
    "                             param_grid = param_grid,\n",
    "                             verbose = 1,\n",
    "                             n_jobs=-1,\n",
    "                             cv = cv)\n",
    "optimal_params.fit(X,y)\n",
    "print(\"Optimal parameter values =\", optimal_params.best_params_)\n",
    "print(\"Optimal cross validation R-squared = \",optimal_params.best_score_)\n",
    "print(\"Time taken = \", (time.time()-start_time)/60, \" minutes\")"
   ]
  },
  {
   "cell_type": "code",
   "execution_count": 27,
   "id": "0fda9133",
   "metadata": {},
   "outputs": [
    {
     "name": "stdout",
     "output_type": "stream",
     "text": [
      "Fitting 2 folds for each of 30 candidates, totalling 60 fits\n",
      "Optimal parameter values = {'gamma': 0, 'learning_rate': 0.08, 'max_depth': 6, 'n_estimators': 200, 'reg_lambda': 10, 'subsample': 0.45}\n",
      "Optimal cross validation R-squared =  0.6868453727512085\n",
      "Time taken =  0.7517614165941874  minutes\n"
     ]
    }
   ],
   "source": [
    "#Coarse Tuning\n",
    "#K-fold cross validation to find optimal parameters for XGBoost\n",
    "start_time = time.time()\n",
    "param_grid = {'max_depth': [5,6],\n",
    "              'learning_rate': [0.08, 0.09, 0.1, 0.11, 0.12],\n",
    "               'reg_lambda':[10],\n",
    "                'n_estimators':[200],\n",
    "                'gamma': [0],\n",
    "                'subsample': [0.35, 0.4, 0.45]}\n",
    "\n",
    "cv = KFold(n_splits=2,shuffle=True,random_state=1)\n",
    "optimal_params = GridSearchCV(estimator=xgb.XGBRegressor(random_state=1),                                                       \n",
    "                             param_grid = param_grid,\n",
    "                             verbose = 1,\n",
    "                             n_jobs=-1,\n",
    "                             cv = cv)\n",
    "optimal_params.fit(X,y)\n",
    "print(\"Optimal parameter values =\", optimal_params.best_params_)\n",
    "print(\"Optimal cross validation R-squared = \",optimal_params.best_score_)\n",
    "print(\"Time taken = \", (time.time()-start_time)/60, \" minutes\")"
   ]
  },
  {
   "cell_type": "code",
   "execution_count": 34,
   "id": "3f25ea2d",
   "metadata": {},
   "outputs": [
    {
     "name": "stdout",
     "output_type": "stream",
     "text": [
      "Fitting 3 folds for each of 120 candidates, totalling 360 fits\n",
      "Optimal parameter values = {'gamma': 0, 'learning_rate': 0.08, 'max_depth': 6, 'n_estimators': 200, 'reg_lambda': 10, 'subsample': 0.35}\n",
      "Optimal cross validation R-squared =  0.6921717935894433\n",
      "Time taken =  5.447802948951721  minutes\n"
     ]
    }
   ],
   "source": [
    "#Coarse Tuning\n",
    "#K-fold cross validation to find optimal parameters for XGBoost\n",
    "start_time = time.time()\n",
    "param_grid = {'max_depth': [5,6],\n",
    "              'learning_rate': [0.08, 0.09, 0.1, 0.11, 0.12],\n",
    "               'reg_lambda':[1,10],\n",
    "                'n_estimators':[200],\n",
    "                'gamma': [0,10],\n",
    "                'subsample': [0.35, 0.4, 0.45]}\n",
    "\n",
    "cv = KFold(n_splits=3,shuffle=True,random_state=1)\n",
    "optimal_params = GridSearchCV(estimator=xgb.XGBRegressor(random_state=1),                                                       \n",
    "                             param_grid = param_grid,\n",
    "                             verbose = 1,\n",
    "                             n_jobs=-1,\n",
    "                             cv = cv)\n",
    "optimal_params.fit(X,y)\n",
    "print(\"Optimal parameter values =\", optimal_params.best_params_)\n",
    "print(\"Optimal cross validation R-squared = \",optimal_params.best_score_)\n",
    "print(\"Time taken = \", (time.time()-start_time)/60, \" minutes\")"
   ]
  },
  {
   "cell_type": "markdown",
   "id": "749abf90",
   "metadata": {},
   "source": [
    "# MAE on Test Data"
   ]
  },
  {
   "cell_type": "code",
   "execution_count": 33,
   "id": "b610ec1a",
   "metadata": {},
   "outputs": [
    {
     "name": "stdout",
     "output_type": "stream",
     "text": [
      "MAE on test data: 47722.065500354576\n"
     ]
    }
   ],
   "source": [
    "model = xgb.XGBRegressor(random_state = 1, max_depth = 6, learning_rate = 0.08,\n",
    "                        n_estimators = 600,reg_lambda = 10, gamma = 0, subsample = 0.45).fit(X,y)\n",
    "print(\"MAE on test data:\",mean_absolute_error(np.exp(model.predict(X_test)),y_test))"
   ]
  },
  {
   "cell_type": "code",
   "execution_count": 38,
   "id": "fcd99541",
   "metadata": {},
   "outputs": [
    {
     "name": "stdout",
     "output_type": "stream",
     "text": [
      "MAE on test data: 47922.211072728525\n"
     ]
    }
   ],
   "source": [
    "model = xgb.XGBRegressor(random_state = 1, max_depth = 6, learning_rate = 0.08,\n",
    "                        n_estimators = 600,reg_lambda = 10, gamma = 0, subsample = 0.35).fit(X,y)\n",
    "print(\"MAE on test data:\",mean_absolute_error(np.exp(model.predict(X_test)),y_test))"
   ]
  },
  {
   "cell_type": "code",
   "execution_count": 42,
   "id": "426cf8e6",
   "metadata": {},
   "outputs": [
    {
     "name": "stdout",
     "output_type": "stream",
     "text": [
      "MAE on test data: 47585.97253458956\n"
     ]
    }
   ],
   "source": [
    "model = xgb.XGBRegressor(random_state = 1, max_depth = 6, learning_rate = 0.08,\n",
    "                        n_estimators = 350,reg_lambda = 10, gamma = 0, subsample = 0.45).fit(X,y)\n",
    "print(\"MAE on test data:\",mean_absolute_error(np.exp(model.predict(X_test)),y_test))"
   ]
  },
  {
   "cell_type": "code",
   "execution_count": 116,
   "id": "23616446",
   "metadata": {},
   "outputs": [
    {
     "name": "stdout",
     "output_type": "stream",
     "text": [
      "MAE on test data: 47490.79071528341\n"
     ]
    }
   ],
   "source": [
    "model = xgb.XGBRegressor(random_state = 1, max_depth = 6, learning_rate = 0.08,\n",
    "                        n_estimators = 450,reg_lambda = 10, gamma = 0, subsample = 0.75).fit(X,y)\n",
    "print(\"MAE on test data:\",mean_absolute_error(np.exp(model.predict(X_test)),y_test))"
   ]
  },
  {
   "cell_type": "code",
   "execution_count": 46,
   "id": "c4629951",
   "metadata": {},
   "outputs": [
    {
     "name": "stdout",
     "output_type": "stream",
     "text": [
      "MAE on test data: 47551.36340313658\n"
     ]
    }
   ],
   "source": [
    "model = xgb.XGBRegressor(random_state = 1, max_depth = 6, learning_rate = 0.08,\n",
    "                        n_estimators = 600,reg_lambda = 10, gamma = 0, subsample = 0.75).fit(X,y)\n",
    "print(\"MAE on test data:\",mean_absolute_error(np.exp(model.predict(X_test)),y_test))"
   ]
  },
  {
   "cell_type": "code",
   "execution_count": null,
   "id": "c79b1d1e",
   "metadata": {},
   "outputs": [],
   "source": []
  }
 ],
 "metadata": {
  "kernelspec": {
   "display_name": "Python 3 (ipykernel)",
   "language": "python",
   "name": "python3"
  },
  "language_info": {
   "codemirror_mode": {
    "name": "ipython",
    "version": 3
   },
   "file_extension": ".py",
   "mimetype": "text/x-python",
   "name": "python",
   "nbconvert_exporter": "python",
   "pygments_lexer": "ipython3",
   "version": "3.9.13"
  }
 },
 "nbformat": 4,
 "nbformat_minor": 5
}
