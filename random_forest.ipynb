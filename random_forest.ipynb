{
 "cells": [
  {
   "cell_type": "code",
   "execution_count": 3,
   "metadata": {},
   "outputs": [],
   "source": [
    "import pandas as pd\n",
    "import numpy as np\n",
    "import seaborn as sns\n",
    "import matplotlib.pyplot as plt\n",
    "from sklearn.metrics import mean_squared_error\n",
    "from sklearn.model_selection import cross_val_score,train_test_split\n",
    "from sklearn.model_selection import KFold\n",
    "from sklearn.tree import DecisionTreeRegressor,DecisionTreeClassifier\n",
    "from sklearn.model_selection import GridSearchCV, ParameterGrid\n",
    "from sklearn.ensemble import BaggingRegressor,BaggingClassifier,RandomForestRegressor,RandomForestClassifier\n",
    "from sklearn.linear_model import LinearRegression,LogisticRegression\n",
    "from sklearn.neighbors import KNeighborsRegressor\n",
    "from sklearn.metrics import roc_curve, precision_recall_curve, auc, make_scorer, recall_score, \\\n",
    "accuracy_score, precision_score, confusion_matrix, mean_squared_error, r2_score, mean_absolute_error\n",
    "\n",
    "import itertools as it\n",
    "import warnings\n",
    "warnings.filterwarnings(\"ignore\", category=DeprecationWarning)\n",
    "from sklearn.exceptions import DataConversionWarning\n",
    "warnings.filterwarnings(action='ignore', category=DataConversionWarning)\n",
    "\n",
    "#Libraries for visualizing trees\n",
    "from sklearn.tree import export_graphviz \n",
    "from six import StringIO\n",
    "from IPython.display import Image \n",
    "import time as time\n"
   ]
  },
  {
   "cell_type": "code",
   "execution_count": 6,
   "metadata": {},
   "outputs": [],
   "source": [
    "X_train = pd.read_csv('./Data/X_train.csv')\n",
    "X_test = pd.read_csv('./Data/X_test.csv')\n",
    "y_train = pd.read_csv('./Data/y_train.csv')\n",
    "y_test = pd.read_csv('./Data/y_test.csv')"
   ]
  },
  {
   "cell_type": "code",
   "execution_count": 75,
   "metadata": {},
   "outputs": [
    {
     "data": {
      "text/html": [
       "<div>\n",
       "<style scoped>\n",
       "    .dataframe tbody tr th:only-of-type {\n",
       "        vertical-align: middle;\n",
       "    }\n",
       "\n",
       "    .dataframe tbody tr th {\n",
       "        vertical-align: top;\n",
       "    }\n",
       "\n",
       "    .dataframe thead th {\n",
       "        text-align: right;\n",
       "    }\n",
       "</style>\n",
       "<table border=\"1\" class=\"dataframe\">\n",
       "  <thead>\n",
       "    <tr style=\"text-align: right;\">\n",
       "      <th></th>\n",
       "      <th>Unnamed: 0</th>\n",
       "      <th>totalyearlycompensation</th>\n",
       "    </tr>\n",
       "  </thead>\n",
       "  <tbody>\n",
       "    <tr>\n",
       "      <th>0</th>\n",
       "      <td>43345</td>\n",
       "      <td>124000</td>\n",
       "    </tr>\n",
       "    <tr>\n",
       "      <th>1</th>\n",
       "      <td>29040</td>\n",
       "      <td>161000</td>\n",
       "    </tr>\n",
       "    <tr>\n",
       "      <th>2</th>\n",
       "      <td>53119</td>\n",
       "      <td>85000</td>\n",
       "    </tr>\n",
       "    <tr>\n",
       "      <th>3</th>\n",
       "      <td>33060</td>\n",
       "      <td>195000</td>\n",
       "    </tr>\n",
       "    <tr>\n",
       "      <th>4</th>\n",
       "      <td>31559</td>\n",
       "      <td>245000</td>\n",
       "    </tr>\n",
       "  </tbody>\n",
       "</table>\n",
       "</div>"
      ],
      "text/plain": [
       "   Unnamed: 0  totalyearlycompensation\n",
       "0       43345                   124000\n",
       "1       29040                   161000\n",
       "2       53119                    85000\n",
       "3       33060                   195000\n",
       "4       31559                   245000"
      ]
     },
     "execution_count": 75,
     "metadata": {},
     "output_type": "execute_result"
    }
   ],
   "source": [
    "y_train.head()"
   ]
  },
  {
   "cell_type": "code",
   "execution_count": 7,
   "metadata": {},
   "outputs": [],
   "source": [
    "y_train = np.log(y_train.totalyearlycompensation)"
   ]
  },
  {
   "cell_type": "code",
   "execution_count": 8,
   "metadata": {},
   "outputs": [
    {
     "data": {
      "text/html": [
       "<div>\n",
       "<style scoped>\n",
       "    .dataframe tbody tr th:only-of-type {\n",
       "        vertical-align: middle;\n",
       "    }\n",
       "\n",
       "    .dataframe tbody tr th {\n",
       "        vertical-align: top;\n",
       "    }\n",
       "\n",
       "    .dataframe thead th {\n",
       "        text-align: right;\n",
       "    }\n",
       "</style>\n",
       "<table border=\"1\" class=\"dataframe\">\n",
       "  <thead>\n",
       "    <tr style=\"text-align: right;\">\n",
       "      <th></th>\n",
       "      <th>Unnamed: 0</th>\n",
       "      <th>totalyearlycompensation</th>\n",
       "    </tr>\n",
       "  </thead>\n",
       "  <tbody>\n",
       "    <tr>\n",
       "      <th>0</th>\n",
       "      <td>60446</td>\n",
       "      <td>95000</td>\n",
       "    </tr>\n",
       "    <tr>\n",
       "      <th>1</th>\n",
       "      <td>51717</td>\n",
       "      <td>125000</td>\n",
       "    </tr>\n",
       "    <tr>\n",
       "      <th>2</th>\n",
       "      <td>35471</td>\n",
       "      <td>350000</td>\n",
       "    </tr>\n",
       "    <tr>\n",
       "      <th>3</th>\n",
       "      <td>46305</td>\n",
       "      <td>108000</td>\n",
       "    </tr>\n",
       "    <tr>\n",
       "      <th>4</th>\n",
       "      <td>25802</td>\n",
       "      <td>113000</td>\n",
       "    </tr>\n",
       "  </tbody>\n",
       "</table>\n",
       "</div>"
      ],
      "text/plain": [
       "   Unnamed: 0  totalyearlycompensation\n",
       "0       60446                    95000\n",
       "1       51717                   125000\n",
       "2       35471                   350000\n",
       "3       46305                   108000\n",
       "4       25802                   113000"
      ]
     },
     "execution_count": 8,
     "metadata": {},
     "output_type": "execute_result"
    }
   ],
   "source": [
    "y_test.head()"
   ]
  },
  {
   "cell_type": "code",
   "execution_count": 9,
   "metadata": {},
   "outputs": [],
   "source": [
    "y_test = y_test.totalyearlycompensation\n",
    "y_test_log=np.log(y_test)"
   ]
  },
  {
   "cell_type": "code",
   "execution_count": 79,
   "metadata": {},
   "outputs": [
    {
     "data": {
      "text/plain": [
       "Index(['Unnamed: 0', 'yearsofexperience', 'yearsatcompany', 'Masters_Degree',\n",
       "       'Bachelors_Degree', 'Doctorate_Degree', 'Highschool', 'Some_College',\n",
       "       'Race_Asian', 'Race_White',\n",
       "       ...\n",
       "       'dmaid_770.0', 'dmaid_789.0', 'dmaid_803.0', 'dmaid_807.0',\n",
       "       'dmaid_819.0', 'dmaid_820.0', 'dmaid_825.0', 'dmaid_855.0',\n",
       "       'dmaid_862.0', 'dmaid_other'],\n",
       "      dtype='object', length=107)"
      ]
     },
     "execution_count": 79,
     "metadata": {},
     "output_type": "execute_result"
    }
   ],
   "source": [
    "X_train.columns"
   ]
  },
  {
   "cell_type": "code",
   "execution_count": null,
   "metadata": {},
   "outputs": [],
   "source": [
    "# naive model\n",
    "naive_model = RandomForestRegressor(random_state=1).fit(X_train, y_train)\n",
    "\n",
    "#make preds\n",
    "naive_pred = naive_model.predict(X_test)\n",
    "naive_pred_exp = np.exp(naive_pred)\n",
    "print(\"naive model MAE:\", mean_absolute_error(naive_pred_exp, y_test))"
   ]
  },
  {
   "cell_type": "code",
   "execution_count": 70,
   "metadata": {},
   "outputs": [],
   "source": [
    "oob_rsquared = {}\n",
    "test_rsquared = {}\n",
    "oob_mae = {}\n",
    "test_mae = {}\n",
    "\n",
    "for i in np.linspace(50, 1000, 100, dtype=int):\n",
    "    model = RandomForestRegressor(n_estimators=i, random_state=1, max_features=\"sqrt\",\n",
    "                                   n_jobs=-1, oob_score=True).fit(X_train, y_train)\n",
    "    oob_rsquared[i] = model.oob_score_\n",
    "    oob_mae[i] = mean_absolute_error(model.oob_prediction_, y_train)\n",
    "    pred = model.predict(X_test)\n",
    "    pred = np.exp(pred)  # Exponentiate predicted values to get back to original scale\n",
    "    test_rsquared[i] = r2_score(y_test, pred)  # Calculate R-squared on original scale\n",
    "    test_mae[i] = mean_absolute_error(pred, y_test)  # Calculate MAE on original scale"
   ]
  },
  {
   "cell_type": "code",
   "execution_count": 71,
   "metadata": {},
   "outputs": [
    {
     "data": {
      "text/plain": [
       "<matplotlib.legend.Legend at 0x7fc7e7e05160>"
      ]
     },
     "execution_count": 71,
     "metadata": {},
     "output_type": "execute_result"
    },
    {
     "data": {
      "image/png": "[encoded data removed]",
      "text/plain": [
       "<Figure size 640x480 with 1 Axes>"
      ]
     },
     "metadata": {},
     "output_type": "display_data"
    }
   ],
   "source": [
    "plt.rcParams.update({'font.size': 15})\n",
    "plt.figure(figsize=(8, 6), dpi=80)\n",
    "plt.plot(oob_rsquared.keys(),oob_rsquared.values(),label = 'Out of bag R-squared')\n",
    "plt.plot(oob_rsquared.keys(),oob_rsquared.values(),'o',color = 'blue')\n",
    "plt.plot(test_rsquared.keys(),test_rsquared.values(), label = 'Test data R-squared')\n",
    "plt.xlabel('Number of trees')\n",
    "plt.ylabel('Rsquared')\n",
    "plt.legend()"
   ]
  },
  {
   "attachments": {},
   "cell_type": "markdown",
   "metadata": {},
   "source": [
    "Looks like the test data r-squared stays pretty constant throughout different # of trees and otu of bag r-squared initially increases a bit and then plateus. The max of test data r-squared is between 200 and 400 tree and the oob r-squared plateaus at around 300-350 trees. Therefore, we should use 350 trees to optimize our model. "
   ]
  },
  {
   "cell_type": "code",
   "execution_count": 72,
   "metadata": {},
   "outputs": [
    {
     "data": {
      "text/plain": [
       "<matplotlib.legend.Legend at 0x7fc70e035190>"
      ]
     },
     "execution_count": 72,
     "metadata": {},
     "output_type": "execute_result"
    },
    {
     "data": {
      "image/png": "[encoded data removed]",
      "text/plain": [
       "<Figure size 640x480 with 1 Axes>"
      ]
     },
     "metadata": {},
     "output_type": "display_data"
    }
   ],
   "source": [
    "#Visualizing out-of-bag RMSE and test data RMSE\n",
    "plt.rcParams.update({'font.size': 15})\n",
    "plt.figure(figsize=(8, 6), dpi=80)\n",
    "plt.plot(oob_mae.keys(),oob_mae.values(),label = 'Out of bag mae')\n",
    "plt.plot(oob_mae.keys(),oob_mae.values(),'o',color = 'blue')\n",
    "plt.plot(test_mae.keys(),test_mae.values(), label = 'Test data mae')\n",
    "plt.xlabel('Number of trees')\n",
    "plt.ylabel('MAE')\n",
    "plt.legend()"
   ]
  },
  {
   "cell_type": "code",
   "execution_count": 80,
   "metadata": {},
   "outputs": [
    {
     "name": "stdout",
     "output_type": "stream",
     "text": [
      "time taken =  0.7195482174555461  minutes\n",
      "Best params =  (350, 18, 1300, 4)\n",
      "Best score (R-squared) =  0.5635872784461009\n"
     ]
    }
   ],
   "source": [
    "#Optimizing with OOB score takes half the time as compared to cross validation. \n",
    "#The number of models developed with OOB score tuning is one-fifth of the number of models developed with\n",
    "#5-fold cross validation\n",
    "start_time = time.time()\n",
    "\n",
    "n_samples = X_train.shape[0]\n",
    "n_features = X_train.shape[1]\n",
    "\n",
    "params = {'n_estimators': [350],\n",
    "          'max_depth': [12,15,18],\n",
    "          'max_leaf_nodes':[1100,1200,1300],\n",
    "          'max_features': [1,2,3,4]}\n",
    "\n",
    "param_list=list(it.product(*(params[Name] for Name in params)))\n",
    "\n",
    "oob_score = [0]*len(param_list)\n",
    "i=0\n",
    "for pr in param_list:\n",
    "    model = RandomForestRegressor(random_state=1,oob_score=True,verbose=False,n_estimators = pr[0],\n",
    "                                 max_depth=pr[1],max_leaf_nodes=pr[2],max_features=pr[3],\n",
    "                                  n_jobs=-1).fit(X_train,y_train)\n",
    "    oob_score[i] = model.oob_score_\n",
    "    i=i+1\n",
    "    \n",
    "end_time = time.time()\n",
    "print(\"time taken = \", (end_time-start_time)/60, \" minutes\")\n",
    "print(\"Best params = \", param_list[np.argmax(oob_score)])\n",
    "print(\"Best score (R-squared) = \", np.max(oob_score))"
   ]
  },
  {
   "attachments": {},
   "cell_type": "markdown",
   "metadata": {},
   "source": [
    "we see that the high range of max_depth, max_leaf_nodes, max_features was taken so lets expand those ranges"
   ]
  },
  {
   "cell_type": "code",
   "execution_count": 81,
   "metadata": {},
   "outputs": [
    {
     "name": "stdout",
     "output_type": "stream",
     "text": [
      "time taken =  0.7141302347183227  minutes\n",
      "Best params =  (350, 22, 3000, 8)\n",
      "Best score (R-squared) =  0.6626626647839164\n"
     ]
    }
   ],
   "source": [
    "start_time = time.time()\n",
    "\n",
    "params = {'n_estimators': [350],\n",
    "          'max_depth': [18, 20, 22], # expand this out since high range taken\n",
    "          'max_leaf_nodes':[1300,2000,3000], # expand this out since high range taken\n",
    "          'max_features': [4,6,8]} # expand this out since high range taken\n",
    "\n",
    "param_list=list(it.product(*(params[Name] for Name in params)))\n",
    "\n",
    "oob_score = [0]*len(param_list)\n",
    "i=0\n",
    "for pr in param_list:\n",
    "    model = RandomForestRegressor(random_state=1,oob_score=True,verbose=False,n_estimators = pr[0],\n",
    "                                 max_depth=pr[1],max_leaf_nodes=pr[2],max_features=pr[3],\n",
    "                                  n_jobs=-1).fit(X_train,y_train)\n",
    "    oob_score[i] = model.oob_score_\n",
    "    i=i+1\n",
    "    \n",
    "end_time = time.time()\n",
    "print(\"time taken = \", (end_time-start_time)/60, \" minutes\")\n",
    "print(\"Best params = \", param_list[np.argmax(oob_score)])\n",
    "print(\"Best score (R-squared) = \", np.max(oob_score))"
   ]
  },
  {
   "cell_type": "code",
   "execution_count": 82,
   "metadata": {},
   "outputs": [
    {
     "name": "stdout",
     "output_type": "stream",
     "text": [
      "time taken =  1.166588552792867  minutes\n",
      "Best params =  (350, 30, 3000, 20)\n",
      "Best score (R-squared) =  0.683244954570055\n"
     ]
    }
   ],
   "source": [
    "start_time = time.time()\n",
    "params = {'n_estimators': [350],\n",
    "          'max_depth': [22, 30, 45], # expand this out since high range taken\n",
    "          'max_leaf_nodes':[3000, 5000, 10000], # expand this out since high range taken\n",
    "          'max_features': [8, 15, 20]} # expand this out since high range taken\n",
    "\n",
    "param_list=list(it.product(*(params[Name] for Name in params)))\n",
    "\n",
    "oob_score = [0]*len(param_list)\n",
    "i=0\n",
    "for pr in param_list:\n",
    "    model = RandomForestRegressor(random_state=1,oob_score=True,verbose=False,n_estimators = pr[0],\n",
    "                                 max_depth=pr[1],max_leaf_nodes=pr[2],max_features=pr[3],\n",
    "                                  n_jobs=-1).fit(X_train,y_train)\n",
    "    oob_score[i] = model.oob_score_\n",
    "    i=i+1\n",
    "    \n",
    "end_time = time.time()\n",
    "print(\"time taken = \", (end_time-start_time)/60, \" minutes\")\n",
    "print(\"Best params = \", param_list[np.argmax(oob_score)])\n",
    "print(\"Best score (R-squared) = \", np.max(oob_score))"
   ]
  },
  {
   "cell_type": "code",
   "execution_count": 83,
   "metadata": {},
   "outputs": [
    {
     "name": "stdout",
     "output_type": "stream",
     "text": [
      "time taken =  1.3288073301315309  minutes\n",
      "Best params =  (350, 25, 3500, 20)\n",
      "Best score (R-squared) =  0.6844298823367385\n"
     ]
    }
   ],
   "source": [
    "start_time = time.time()\n",
    "params = {'n_estimators': [350],\n",
    "          'max_depth': [25, 30, 35], \n",
    "          'max_leaf_nodes':[2500, 3000, 3500], \n",
    "          'max_features': [20, 22, 24]} \n",
    "\n",
    "param_list=list(it.product(*(params[Name] for Name in params)))\n",
    "\n",
    "oob_score = [0]*len(param_list)\n",
    "i=0\n",
    "for pr in param_list:\n",
    "    model = RandomForestRegressor(random_state=1,oob_score=True,verbose=False,n_estimators = pr[0],\n",
    "                                 max_depth=pr[1],max_leaf_nodes=pr[2],max_features=pr[3],\n",
    "                                  n_jobs=-1).fit(X_train,y_train)\n",
    "    oob_score[i] = model.oob_score_\n",
    "    i=i+1\n",
    "    \n",
    "end_time = time.time()\n",
    "print(\"time taken = \", (end_time-start_time)/60, \" minutes\")\n",
    "print(\"Best params = \", param_list[np.argmax(oob_score)])\n",
    "print(\"Best score (R-squared) = \", np.max(oob_score))"
   ]
  },
  {
   "cell_type": "code",
   "execution_count": 84,
   "metadata": {},
   "outputs": [
    {
     "name": "stdout",
     "output_type": "stream",
     "text": [
      "time taken =  1.740479596455892  minutes\n",
      "Best params =  (350, 25, 3250, 20)\n",
      "Best score (R-squared) =  0.684437852581224\n"
     ]
    }
   ],
   "source": [
    "start_time = time.time()\n",
    "params = {'n_estimators': [350],\n",
    "          'max_depth': [22, 25, 27],\n",
    "          'max_leaf_nodes':[3250, 3500, 3750], \n",
    "          'max_features': [18, 19, 20, 21]} \n",
    "\n",
    "param_list=list(it.product(*(params[Name] for Name in params)))\n",
    "\n",
    "oob_score = [0]*len(param_list)\n",
    "i=0\n",
    "for pr in param_list:\n",
    "    model = RandomForestRegressor(random_state=1,oob_score=True,verbose=False,n_estimators = pr[0],\n",
    "                                 max_depth=pr[1],max_leaf_nodes=pr[2],max_features=pr[3],\n",
    "                                  n_jobs=-1).fit(X_train,y_train)\n",
    "    oob_score[i] = model.oob_score_\n",
    "    i=i+1\n",
    "    \n",
    "end_time = time.time()\n",
    "print(\"time taken = \", (end_time-start_time)/60, \" minutes\")\n",
    "print(\"Best params = \", param_list[np.argmax(oob_score)])\n",
    "print(\"Best score (R-squared) = \", np.max(oob_score))"
   ]
  },
  {
   "cell_type": "code",
   "execution_count": 85,
   "metadata": {},
   "outputs": [
    {
     "name": "stdout",
     "output_type": "stream",
     "text": [
      "time taken =  0.6960430979728699  minutes\n",
      "Best params =  (350, 25, 3400, 20)\n",
      "Best score (R-squared) =  0.6845017206648687\n"
     ]
    }
   ],
   "source": [
    "start_time = time.time()\n",
    "params = {'n_estimators': [350],\n",
    "          'max_depth': [23, 24, 25, 26, 27],\n",
    "          'max_leaf_nodes':[3100, 3250, 3400], \n",
    "          'max_features': [20]} # set\n",
    "\n",
    "param_list=list(it.product(*(params[Name] for Name in params)))\n",
    "\n",
    "oob_score = [0]*len(param_list)\n",
    "i=0\n",
    "for pr in param_list:\n",
    "    model = RandomForestRegressor(random_state=1,oob_score=True,verbose=False,n_estimators = pr[0],\n",
    "                                 max_depth=pr[1],max_leaf_nodes=pr[2],max_features=pr[3],\n",
    "                                  n_jobs=-1).fit(X_train,y_train)\n",
    "    oob_score[i] = model.oob_score_\n",
    "    i=i+1\n",
    "    \n",
    "end_time = time.time()\n",
    "print(\"time taken = \", (end_time-start_time)/60, \" minutes\")\n",
    "print(\"Best params = \", param_list[np.argmax(oob_score)])\n",
    "print(\"Best score (R-squared) = \", np.max(oob_score))"
   ]
  },
  {
   "cell_type": "code",
   "execution_count": 87,
   "metadata": {},
   "outputs": [
    {
     "name": "stdout",
     "output_type": "stream",
     "text": [
      "MAE: 48605.669982948835\n"
     ]
    }
   ],
   "source": [
    "#Model with optimal parameters\n",
    "model = RandomForestRegressor(n_estimators=350, random_state=1,max_leaf_nodes=3100,max_depth=25,\n",
    "                        oob_score=True,n_jobs=-1, max_features=20).fit(X_train, y_train)\n",
    "\n",
    "#make preds\n",
    "pred = model.predict(X_test)\n",
    "pred_exp = np.exp(pred)\n",
    "print(\"MAE:\", mean_absolute_error(pred_exp, y_test))"
   ]
  },
  {
   "cell_type": "code",
   "execution_count": 92,
   "metadata": {},
   "outputs": [
    {
     "name": "stdout",
     "output_type": "stream",
     "text": [
      "Fitting 5 folds for each of 45 candidates, totalling 225 fits\n",
      "Optimal parameter values = {'max_depth': 27, 'max_features': 20, 'max_leaf_nodes': 3500}\n",
      "Optimal cross validation R-squared =  -0.2631609882095366\n"
     ]
    }
   ],
   "source": [
    "param_grid = {'max_depth': [23, 24, 25, 26, 27],\n",
    "            'max_leaf_nodes':[3000, 3250, 3500], \n",
    "            'max_features': [18, 20, 22]}\n",
    "\n",
    "cv = KFold(n_splits=5,shuffle=True,random_state=1)\n",
    "\n",
    "# setting max depth since not changing much\n",
    "grid_search = GridSearchCV(estimator=RandomForestRegressor(n_estimators=350, random_state=1), \n",
    "                            param_grid=param_grid, verbose=1, n_jobs=-1, cv=cv, scoring='neg_mean_absolute_error')\n",
    "optimal_params = grid_search.fit(X_train,y_train)\n",
    "print(\"Optimal parameter values =\", optimal_params.best_params_)\n",
    "print(\"Optimal cross validation R-squared = \",optimal_params.best_score_)"
   ]
  },
  {
   "cell_type": "code",
   "execution_count": 94,
   "metadata": {},
   "outputs": [
    {
     "name": "stdout",
     "output_type": "stream",
     "text": [
      "MAE: 48582.650837241774\n"
     ]
    }
   ],
   "source": [
    "#Model with optimal parameters\n",
    "random_forest = RandomForestRegressor(n_estimators=350, random_state=1,max_leaf_nodes=3500,max_depth=27,\n",
    "                        oob_score=True,n_jobs=-1, max_features=20).fit(X_train, y_train)\n",
    "\n",
    "#make preds\n",
    "pred = random_forest.predict(X_test)\n",
    "pred_exp = np.exp(pred)\n",
    "print(\"MAE:\", mean_absolute_error(pred_exp, y_test))"
   ]
  },
  {
   "cell_type": "code",
   "execution_count": 96,
   "metadata": {},
   "outputs": [
    {
     "name": "stdout",
     "output_type": "stream",
     "text": [
      "Fitting 5 folds for each of 135 candidates, totalling 675 fits\n",
      "Optimal parameter values = {'max_depth': 27, 'max_features': 20, 'max_leaf_nodes': 3500, 'n_estimators': 350}\n",
      "Optimal cross validation R-squared =  -0.2631609882095366\n"
     ]
    }
   ],
   "source": [
    "param_grid = {'n_estimators': [300, 325, 350],\n",
    "            'max_depth': [23, 24, 25, 26, 27],\n",
    "            'max_leaf_nodes':[3000, 3250, 3500], \n",
    "            'max_features': [18, 20, 22]}\n",
    "\n",
    "cv = KFold(n_splits=5,shuffle=True,random_state=1)\n",
    "\n",
    "# setting max depth since not changing much\n",
    "grid_search = GridSearchCV(estimator=RandomForestRegressor(random_state=1), \n",
    "                            param_grid=param_grid, verbose=1, n_jobs=-1, cv=cv, scoring='neg_mean_absolute_error')\n",
    "optimal_params = grid_search.fit(X_train,y_train)\n",
    "print(\"Optimal parameter values =\", optimal_params.best_params_)\n",
    "print(\"Optimal cross validation R-squared = \",optimal_params.best_score_)"
   ]
  },
  {
   "cell_type": "code",
   "execution_count": 11,
   "metadata": {},
   "outputs": [
    {
     "name": "stdout",
     "output_type": "stream",
     "text": [
      "Fitting 5 folds for each of 90 candidates, totalling 450 fits\n",
      "Optimal parameter values = {'max_depth': 25, 'max_features': 22, 'max_leaf_nodes': 3500, 'n_estimators': 375}\n",
      "Optimal cross validation R-squared =  -0.2631918101024519\n"
     ]
    }
   ],
   "source": [
    "param_grid = {'n_estimators': [350, 375],\n",
    "            'max_depth': [25, 26, 27, 28, 29],\n",
    "            'max_leaf_nodes':[32500, 3500, 3750], \n",
    "            'max_features': [18, 20, 22]}\n",
    "\n",
    "cv = KFold(n_splits=5,shuffle=True,random_state=1)\n",
    "\n",
    "# setting max depth since not changing much\n",
    "grid_search = GridSearchCV(estimator=RandomForestRegressor(random_state=1), \n",
    "                            param_grid=param_grid, verbose=1, n_jobs=-1, cv=cv, scoring='neg_mean_absolute_error')\n",
    "optimal_params = grid_search.fit(X_train,y_train)\n",
    "print(\"Optimal parameter values =\", optimal_params.best_params_)\n",
    "print(\"Optimal cross validation R-squared = \",optimal_params.best_score_)"
   ]
  },
  {
   "cell_type": "code",
   "execution_count": 12,
   "metadata": {},
   "outputs": [
    {
     "name": "stdout",
     "output_type": "stream",
     "text": [
      "MAE: 48520.13989378257\n"
     ]
    }
   ],
   "source": [
    "#Model with optimal parameters\n",
    "random_forest2 = RandomForestRegressor(n_estimators=375, random_state=1,max_leaf_nodes=3500,max_depth=25,\n",
    "                        oob_score=True,n_jobs=-1, max_features=22).fit(X_train, y_train)\n",
    "\n",
    "#make preds\n",
    "pred = random_forest2.predict(X_test)\n",
    "pred_exp = np.exp(pred)\n",
    "print(\"MAE:\", mean_absolute_error(pred_exp, y_test))"
   ]
  }
 ],
 "metadata": {
  "kernelspec": {
   "display_name": "base",
   "language": "python",
   "name": "python3"
  },
  "language_info": {
   "codemirror_mode": {
    "name": "ipython",
    "version": 3
   },
   "file_extension": ".py",
   "mimetype": "text/x-python",
   "name": "python",
   "nbconvert_exporter": "python",
   "pygments_lexer": "ipython3",
   "version": "3.9.13"
  },
  "orig_nbformat": 4
 },
 "nbformat": 4,
 "nbformat_minor": 2
}
