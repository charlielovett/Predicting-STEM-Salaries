{
 "cells": [
  {
   "cell_type": "code",
   "execution_count": 38,
   "id": "7e50796c",
   "metadata": {},
   "outputs": [],
   "source": [
    "import pandas as pd\n",
    "import numpy as np\n",
    "import seaborn as sns\n",
    "import matplotlib.pyplot as plt\n",
    "from sklearn.ensemble import RandomForestRegressor, AdaBoostRegressor, StackingRegressor, VotingRegressor, GradientBoostingRegressor\n",
    "from sklearn.linear_model import LinearRegression,Ridge, RidgeCV, Lasso, LassoCV\n",
    "from sklearn.metrics import mean_absolute_error\n",
    "from sklearn.preprocessing import StandardScaler \n",
    "from sklearn.tree import DecisionTreeRegressor\n",
    "from sklearn.model_selection import KFold\n",
    "from pyearth import Earth\n",
    "from xgboost import XGBRegressor\n",
    "import time as time\n",
    "import xgboost as xgb\n",
    "import warnings\n",
    "warnings.filterwarnings(\"ignore\")"
   ]
  },
  {
   "cell_type": "code",
   "execution_count": 39,
   "id": "eb3a123d",
   "metadata": {},
   "outputs": [],
   "source": [
    "# Read Data\n",
    "X_train = data = pd.read_csv('X_train.csv').drop(columns = 'Unnamed: 0')\n",
    "X_test = pd.read_csv('X_test.csv').drop(columns = 'Unnamed: 0').drop(3415)\n",
    "y_train = pd.read_csv('y_train.csv').drop(columns = 'Unnamed: 0').totalyearlycompensation\n",
    "y_test = pd.read_csv('y_test.csv').drop(columns = 'Unnamed: 0').totalyearlycompensation.drop(3415)\n",
    "\n",
    "# Transformed Data\n",
    "y_trans = np.log(y_train)\n",
    "\n",
    "# Standardized Data\n",
    "scaler = StandardScaler()\n",
    "scaler.fit(X_train)\n",
    "X_train_std = scaler.transform(X_train)\n",
    "\n",
    "X_test_std = scaler.transform(X_test)"
   ]
  },
  {
   "cell_type": "markdown",
   "id": "72cba18d",
   "metadata": {},
   "source": [
    "## Individual Models"
   ]
  },
  {
   "cell_type": "code",
   "execution_count": 40,
   "id": "223b0f8b",
   "metadata": {},
   "outputs": [
    {
     "name": "stdout",
     "output_type": "stream",
     "text": [
      "Linear MAE: 55484.18242534074\n",
      "Ridge MAE: 55399.39345522172\n",
      "Lasso MAE: 55364.52622961471\n",
      "Random Forest MAE: 48543.843588033524\n",
      "AdaBoost MAE: 50549.62023194333\n",
      "Gradient Boost MAE: 47583.10095823529\n",
      "XGBoost MAE: 47726.58988807753\n"
     ]
    }
   ],
   "source": [
    "# Linear Model\n",
    "lin_model = LinearRegression().fit(X_train, y_trans)\n",
    "\n",
    "# Ridge Model\n",
    "ridge_model = Ridge(alpha = 85.06457640936617).fit(X_train_std, y_trans)\n",
    "\n",
    "# Lasso Model\n",
    "lasso_model = Lasso(alpha = 0.001).fit(X_train_std, y_trans)\n",
    "\n",
    "# Random Forest Model\n",
    "rf_model = RandomForestRegressor(n_estimators=375,\n",
    "                                 max_leaf_nodes=3500,\n",
    "                                 max_depth=25,\n",
    "                                 oob_score=True,\n",
    "                                 n_jobs=-1,\n",
    "                                 max_features=22,\n",
    "                                 random_state=1).fit(X_train, y_trans)\n",
    "# AdaBoost Model\n",
    "ada_model = AdaBoostRegressor(base_estimator = DecisionTreeRegressor(max_depth=18),\n",
    "                              n_estimators = 200,\n",
    "                              learning_rate=0.0125,\n",
    "                              random_state=1).fit(X_train, y_trans)\n",
    "# Gradient Boost Model\n",
    "grad_model = GradientBoostingRegressor(max_depth=6,\n",
    "                                       n_estimators=450,\n",
    "                                       learning_rate=0.1,\n",
    "                                       subsample=0.75,\n",
    "                                       random_state=1,\n",
    "                                       loss='huber').fit(X_train, y_trans)\n",
    "\n",
    "# XGBoost Model\n",
    "xgb_model = xgb.XGBRegressor(max_depth = 6,\n",
    "                             learning_rate = 0.08,\n",
    "                             n_estimators = 600,\n",
    "                             reg_lambda = 10,\n",
    "                             gamma = 0,\n",
    "                             subsample = 0.45,\n",
    "                             random_state = 1).fit(X_train, y_trans)\n",
    "\n",
    "print('Linear MAE:', mean_absolute_error(np.exp(lin_model.predict(X_test)), y_test))\n",
    "print('Ridge MAE:', mean_absolute_error(np.exp(ridge_model.predict(X_test_std)), y_test))\n",
    "print('Lasso MAE:', mean_absolute_error(np.exp(lasso_model.predict(X_test_std)), y_test))\n",
    "print('Random Forest MAE:', mean_absolute_error(np.exp(rf_model.predict(X_test)), y_test))\n",
    "print('AdaBoost MAE:', mean_absolute_error(np.exp(ada_model.predict(X_test)), y_test))\n",
    "print('Gradient Boost MAE:', mean_absolute_error(np.exp(grad_model.predict(X_test)), y_test))\n",
    "print('XGBoost MAE:', mean_absolute_error(np.exp(xgb_model.predict(X_test)), y_test))"
   ]
  },
  {
   "cell_type": "markdown",
   "id": "19d6f853",
   "metadata": {},
   "source": [
    "## Voting Regressor"
   ]
  },
  {
   "cell_type": "code",
   "execution_count": 41,
   "id": "ce3c7d1c",
   "metadata": {},
   "outputs": [
    {
     "name": "stdout",
     "output_type": "stream",
     "text": [
      "Voting Ensemble MAE: 48732.00551111569\n"
     ]
    }
   ],
   "source": [
    "voting_model = VotingRegressor(estimators=[('linear', lin_model),\n",
    "                                           ('ridge', ridge_model),\n",
    "                                           ('lasso', lasso_model),\n",
    "                                           ('rf', rf_model),\n",
    "                                           ('ada', ada_model),\n",
    "                                           ('grad', grad_model),\n",
    "                                           ('xgb', xgb_model)])\n",
    "\n",
    "voting_model.fit(X_train, y_trans)\n",
    "print('Voting Ensemble MAE:',\n",
    "      mean_absolute_error(np.exp(voting_model.predict(X_test)), y_test))"
   ]
  },
  {
   "cell_type": "markdown",
   "id": "f91c7e33",
   "metadata": {},
   "source": [
    "## Stacking Regressor"
   ]
  },
  {
   "cell_type": "code",
   "execution_count": 42,
   "id": "da668457",
   "metadata": {},
   "outputs": [
    {
     "name": "stdout",
     "output_type": "stream",
     "text": [
      "Linear Regression metamodel MAE: 47232.522451909084\n",
      "Lasso metamodel MAE: 47342.356875929945\n",
      "Mars metamodel MAE: 47082.329414820604\n"
     ]
    }
   ],
   "source": [
    "# Stacking using Linear Regression as the meta-model\n",
    "linear_stacked_model = StackingRegressor(estimators = [('linear', lin_model),\n",
    "                                                       ('ridge', ridge_model),\n",
    "                                                       ('lasso', lasso_model),\n",
    "                                                       ('rf', rf_model),\n",
    "                                                       ('ada', ada_model),\n",
    "                                                       ('xgb', xgb_model)],\n",
    "                                         final_estimator=LinearRegression(),\n",
    "                                         cv = KFold(n_splits = 5, shuffle = True, random_state=1))\n",
    "\n",
    "linear_stacked_model.fit(X_train, y_trans)\n",
    "\n",
    "# Stacking using Lasso as the meta-model\n",
    "lasso_stacked_model = StackingRegressor(estimators = [('linear', lin_model),\n",
    "                                                      ('ridge', ridge_model),\n",
    "                                                      ('lasso', lasso_model),\n",
    "                                                      ('rf', rf_model),\n",
    "                                                      ('ada', ada_model),\n",
    "                                                      ('xgb', xgb_model)],\n",
    "                                        final_estimator=LassoCV(),\n",
    "                                        cv = KFold(n_splits = 5, shuffle = True, random_state=1))\n",
    "lasso_stacked_model.fit(X_train, y_trans)\n",
    "\n",
    "# Stacking using MARS as the meta-model\n",
    "mars_stacked_model = StackingRegressor(estimators = [('linear', lin_model),\n",
    "                                                     ('ridge', ridge_model),\n",
    "                                                     ('lasso', lasso_model),\n",
    "                                                     ('rf', rf_model),\n",
    "                                                     ('ada', ada_model),\n",
    "                                                     ('xgb', xgb_model)],\n",
    "                                       final_estimator = Earth(max_degree=1),\n",
    "                                       cv = KFold(n_splits = 5, shuffle = True, random_state=1))\n",
    "mars_stacked_model.fit(X_train, y_trans)\n",
    "\n",
    "print('Linear Regression metamodel MAE:',\n",
    "      mean_absolute_error(np.exp(linear_stacked_model.predict(X_test)), y_test))\n",
    "print('Lasso metamodel MAE:',\n",
    "      mean_absolute_error(np.exp(lasso_stacked_model.predict(X_test)), y_test))\n",
    "print('Mars metamodel MAE:',\n",
    "      mean_absolute_error(np.exp(mars_stacked_model.predict(X_test)), y_test))"
   ]
  },
  {
   "cell_type": "code",
   "execution_count": 44,
   "id": "5b5804ef",
   "metadata": {},
   "outputs": [
    {
     "data": {
      "text/html": [
       "<div>\n",
       "<style scoped>\n",
       "    .dataframe tbody tr th:only-of-type {\n",
       "        vertical-align: middle;\n",
       "    }\n",
       "\n",
       "    .dataframe tbody tr th {\n",
       "        vertical-align: top;\n",
       "    }\n",
       "\n",
       "    .dataframe thead th {\n",
       "        text-align: right;\n",
       "    }\n",
       "</style>\n",
       "<table border=\"1\" class=\"dataframe\">\n",
       "  <thead>\n",
       "    <tr style=\"text-align: right;\">\n",
       "      <th></th>\n",
       "      <th>Feature</th>\n",
       "      <th>Importance</th>\n",
       "    </tr>\n",
       "  </thead>\n",
       "  <tbody>\n",
       "    <tr>\n",
       "      <th>99</th>\n",
       "      <td>dmaid_807.0</td>\n",
       "      <td>0.044386</td>\n",
       "    </tr>\n",
       "    <tr>\n",
       "      <th>15</th>\n",
       "      <td>company_facebook</td>\n",
       "      <td>0.035608</td>\n",
       "    </tr>\n",
       "    <tr>\n",
       "      <th>59</th>\n",
       "      <td>dmaid_0.0</td>\n",
       "      <td>0.030468</td>\n",
       "    </tr>\n",
       "    <tr>\n",
       "      <th>21</th>\n",
       "      <td>company_other</td>\n",
       "      <td>0.021626</td>\n",
       "    </tr>\n",
       "    <tr>\n",
       "      <th>82</th>\n",
       "      <td>dmaid_616.0</td>\n",
       "      <td>0.020905</td>\n",
       "    </tr>\n",
       "    <tr>\n",
       "      <th>41</th>\n",
       "      <td>title_Software Engineering Manager</td>\n",
       "      <td>0.020873</td>\n",
       "    </tr>\n",
       "    <tr>\n",
       "      <th>4</th>\n",
       "      <td>Doctorate_Degree</td>\n",
       "      <td>0.016084</td>\n",
       "    </tr>\n",
       "    <tr>\n",
       "      <th>7</th>\n",
       "      <td>Race_Asian</td>\n",
       "      <td>0.015505</td>\n",
       "    </tr>\n",
       "    <tr>\n",
       "      <th>16</th>\n",
       "      <td>company_google</td>\n",
       "      <td>0.014828</td>\n",
       "    </tr>\n",
       "    <tr>\n",
       "      <th>34</th>\n",
       "      <td>title_Business Analyst</td>\n",
       "      <td>0.014755</td>\n",
       "    </tr>\n",
       "  </tbody>\n",
       "</table>\n",
       "</div>"
      ],
      "text/plain": [
       "                               Feature  Importance\n",
       "99                         dmaid_807.0    0.044386\n",
       "15                    company_facebook    0.035608\n",
       "59                           dmaid_0.0    0.030468\n",
       "21                       company_other    0.021626\n",
       "82                         dmaid_616.0    0.020905\n",
       "41  title_Software Engineering Manager    0.020873\n",
       "4                     Doctorate_Degree    0.016084\n",
       "7                           Race_Asian    0.015505\n",
       "16                      company_google    0.014828\n",
       "34              title_Business Analyst    0.014755"
      ]
     },
     "execution_count": 44,
     "metadata": {},
     "output_type": "execute_result"
    }
   ],
   "source": [
    "importances = xgb_model.feature_importances_\n",
    "feature_names = xgb_model.feature_names_in_\n",
    "df_importances = pd.DataFrame({'Feature': feature_names, 'Importance': importances})\n",
    "df_importances = df_importances.sort_values('Importance', ascending=False)\n",
    "df_importances.head(10)"
   ]
  }
 ],
 "metadata": {
  "kernelspec": {
   "display_name": "Python 3 (ipykernel)",
   "language": "python",
   "name": "python3"
  },
  "language_info": {
   "codemirror_mode": {
    "name": "ipython",
    "version": 3
   },
   "file_extension": ".py",
   "mimetype": "text/x-python",
   "name": "python",
   "nbconvert_exporter": "python",
   "pygments_lexer": "ipython3",
   "version": "3.9.12"
  }
 },
 "nbformat": 4,
 "nbformat_minor": 5
}
